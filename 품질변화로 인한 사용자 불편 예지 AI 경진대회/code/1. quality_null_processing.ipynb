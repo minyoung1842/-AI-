{
 "cells": [
  {
   "cell_type": "markdown",
   "metadata": {},
   "source": [
    "# 1. Library Import & Data definition"
   ]
  },
  {
   "cell_type": "code",
   "execution_count": 1,
   "metadata": {
    "ExecuteTime": {
     "end_time": "2021-03-14T02:36:33.582549Z",
     "start_time": "2021-03-14T02:36:32.808731Z"
    }
   },
   "outputs": [],
   "source": [
    "import pandas as pd\n",
    "import numpy as np\n",
    "from tqdm import tqdm\n",
    "import matplotlib.pyplot as plt\n",
    "import seaborn as sns\n",
    "\n",
    "import warnings\n",
    "warnings.filterwarnings(\"ignore\")"
   ]
  },
  {
   "cell_type": "code",
   "execution_count": 2,
   "metadata": {
    "ExecuteTime": {
     "end_time": "2021-03-14T02:36:46.174648Z",
     "start_time": "2021-03-14T02:36:33.582549Z"
    }
   },
   "outputs": [],
   "source": [
    "# quality와 err데이터의 train과 test set을 모두 import\n",
    "# err_data는 quality_data의 fwver null processing에 사용\n",
    "\n",
    "PATH = './data/'\n",
    "\n",
    "train_err = pd.read_csv(PATH + 'train_err_data.csv')\n",
    "train_qua = pd.read_csv(PATH + 'train_quality_data.csv')\n",
    "\n",
    "test_err = pd.read_csv(PATH + 'test_err_data.csv')\n",
    "test_qua = pd.read_csv(PATH + 'test_quality_data.csv')"
   ]
  },
  {
   "cell_type": "code",
   "execution_count": 3,
   "metadata": {
    "ExecuteTime": {
     "end_time": "2021-03-14T02:36:48.803972Z",
     "start_time": "2021-03-14T02:36:46.174648Z"
    }
   },
   "outputs": [],
   "source": [
    "# train_qua와 test_qua데이터에서 콤마(,)표시로 인해 문자로 표시된 변수를 숫자형 변수로 전환\n",
    "train_qua['quality_5'] = train_qua['quality_5'].astype(str).str.replace(',','').astype(float)\n",
    "train_qua['quality_7'] = train_qua['quality_7'].astype(str).str.replace(',','').astype(float)\n",
    "train_qua['quality_8'] = train_qua['quality_8'].astype(str).str.replace(',','').astype(float)\n",
    "train_qua['quality_9'] = train_qua['quality_9'].astype(str).str.replace(',','').astype(float)\n",
    "train_qua['quality_10'] = train_qua['quality_10'].astype(str).str.replace(',','').astype(float)\n",
    "\n",
    "test_qua['quality_1'] = test_qua['quality_1'].astype(str).str.replace(',','').astype(float)\n",
    "test_qua['quality_5'] = test_qua['quality_5'].astype(str).str.replace(',','').astype(float)\n",
    "test_qua['quality_7'] = test_qua['quality_7'].astype(str).str.replace(',','').astype(float)\n",
    "test_qua['quality_8'] = test_qua['quality_8'].astype(str).str.replace(',','').astype(float)\n",
    "test_qua['quality_9'] = test_qua['quality_9'].astype(str).str.replace(',','').astype(float)\n",
    "test_qua['quality_10'] = test_qua['quality_10'].astype(str).str.replace(',','').astype(float)"
   ]
  },
  {
   "cell_type": "code",
   "execution_count": 4,
   "metadata": {
    "ExecuteTime": {
     "end_time": "2021-03-14T02:36:49.008647Z",
     "start_time": "2021-03-14T02:36:48.803972Z"
    }
   },
   "outputs": [],
   "source": [
    "# NULL EDA를 위해 train과 test데이터 통합\n",
    "full_qua = pd.concat([train_qua, test_qua])"
   ]
  },
  {
   "cell_type": "markdown",
   "metadata": {},
   "source": [
    "# 2. 통합 데이터 NULL EDA"
   ]
  },
  {
   "cell_type": "code",
   "execution_count": 5,
   "metadata": {
    "ExecuteTime": {
     "end_time": "2021-03-14T02:36:49.073662Z",
     "start_time": "2021-03-14T02:36:49.009648Z"
    },
    "scrolled": false
   },
   "outputs": [
    {
     "data": {
      "text/plain": [
       "time               0\n",
       "user_id            0\n",
       "fwver          62844\n",
       "quality_0     251016\n",
       "quality_1         11\n",
       "quality_2      61228\n",
       "quality_3          0\n",
       "quality_4          0\n",
       "quality_5         64\n",
       "quality_6          0\n",
       "quality_7          0\n",
       "quality_8          0\n",
       "quality_9          0\n",
       "quality_10         0\n",
       "quality_11         0\n",
       "quality_12         0\n",
       "dtype: int64"
      ]
     },
     "execution_count": 5,
     "metadata": {},
     "output_type": "execute_result"
    }
   ],
   "source": [
    "# 전체 quality_data의 NULL값 확인\n",
    "full_qua.isna().sum()"
   ]
  },
  {
   "cell_type": "markdown",
   "metadata": {},
   "source": [
    "quality_data에서 NULL값을 가지는 변수는 'fwver', 'quality_0', 'quality_1', 'quality_2', 'quality_5'이다. 'fwver'의 경우에는 err_data를 이용하여 NULL값을 처리할 수 있지만, 'quality_0, 1, 2, 5'의 경우에는 다른 변수 사이와 상관성을 파악하여 NULL값을 처리해야 한다.\n",
    "\n",
    "특히 'quality_0, 1, 2, 5, 6, 11'은 0보다 아래인 음수 값을 가지는데, 연속적인 값이 아니라 -1이라는 값 하나로만 표현된다. 이를 통해 -1이라는 값은 장비의 특정한 상태(예시: quality_0을 기록하는 장비의 문제로 품질의 상태를 기록할 수 없는 상태)를 나타낸 것으로 보았다. 따라서 이와 같이 특정 변수에 -1값이 발생한 경우를 '-1패턴'이라 지칭하고, NULL EDA와 NULL processing에서 '-1패턴'인 경우와 아닌 경우를 모두 확인한다."
   ]
  },
  {
   "cell_type": "markdown",
   "metadata": {},
   "source": [
    "## 2.1. quality correlation"
   ]
  },
  {
   "cell_type": "markdown",
   "metadata": {},
   "source": [
    "들어가기에 앞서 quality변수 사이의 상관관계를 아래와 같이 먼저 확인한다."
   ]
  },
  {
   "cell_type": "code",
   "execution_count": 6,
   "metadata": {
    "ExecuteTime": {
     "end_time": "2021-03-14T02:36:49.817584Z",
     "start_time": "2021-03-14T02:36:49.073662Z"
    }
   },
   "outputs": [
    {
     "data": {
      "text/html": [
       "<div>\n",
       "<style scoped>\n",
       "    .dataframe tbody tr th:only-of-type {\n",
       "        vertical-align: middle;\n",
       "    }\n",
       "\n",
       "    .dataframe tbody tr th {\n",
       "        vertical-align: top;\n",
       "    }\n",
       "\n",
       "    .dataframe thead th {\n",
       "        text-align: right;\n",
       "    }\n",
       "</style>\n",
       "<table border=\"1\" class=\"dataframe\">\n",
       "  <thead>\n",
       "    <tr style=\"text-align: right;\">\n",
       "      <th></th>\n",
       "      <th>quality_0</th>\n",
       "      <th>quality_1</th>\n",
       "      <th>quality_2</th>\n",
       "      <th>quality_3</th>\n",
       "      <th>quality_4</th>\n",
       "      <th>quality_5</th>\n",
       "      <th>quality_6</th>\n",
       "      <th>quality_7</th>\n",
       "      <th>quality_8</th>\n",
       "      <th>quality_9</th>\n",
       "      <th>quality_10</th>\n",
       "      <th>quality_11</th>\n",
       "      <th>quality_12</th>\n",
       "    </tr>\n",
       "  </thead>\n",
       "  <tbody>\n",
       "    <tr>\n",
       "      <th>quality_0</th>\n",
       "      <td>1.000000</td>\n",
       "      <td>0.046760</td>\n",
       "      <td>0.997999</td>\n",
       "      <td>NaN</td>\n",
       "      <td>NaN</td>\n",
       "      <td>0.065589</td>\n",
       "      <td>-0.000219</td>\n",
       "      <td>0.000112</td>\n",
       "      <td>0.046357</td>\n",
       "      <td>0.567735</td>\n",
       "      <td>0.028646</td>\n",
       "      <td>0.015601</td>\n",
       "      <td>0.009709</td>\n",
       "    </tr>\n",
       "    <tr>\n",
       "      <th>quality_1</th>\n",
       "      <td>0.046760</td>\n",
       "      <td>1.000000</td>\n",
       "      <td>-0.000009</td>\n",
       "      <td>NaN</td>\n",
       "      <td>NaN</td>\n",
       "      <td>0.006549</td>\n",
       "      <td>0.000129</td>\n",
       "      <td>-0.000027</td>\n",
       "      <td>0.994424</td>\n",
       "      <td>-0.000035</td>\n",
       "      <td>0.007688</td>\n",
       "      <td>0.001562</td>\n",
       "      <td>0.001087</td>\n",
       "    </tr>\n",
       "    <tr>\n",
       "      <th>quality_2</th>\n",
       "      <td>0.997999</td>\n",
       "      <td>-0.000009</td>\n",
       "      <td>1.000000</td>\n",
       "      <td>NaN</td>\n",
       "      <td>NaN</td>\n",
       "      <td>0.065683</td>\n",
       "      <td>-0.000221</td>\n",
       "      <td>0.000108</td>\n",
       "      <td>-0.000119</td>\n",
       "      <td>0.568171</td>\n",
       "      <td>0.028897</td>\n",
       "      <td>0.015603</td>\n",
       "      <td>0.009710</td>\n",
       "    </tr>\n",
       "    <tr>\n",
       "      <th>quality_3</th>\n",
       "      <td>NaN</td>\n",
       "      <td>NaN</td>\n",
       "      <td>NaN</td>\n",
       "      <td>NaN</td>\n",
       "      <td>NaN</td>\n",
       "      <td>NaN</td>\n",
       "      <td>NaN</td>\n",
       "      <td>NaN</td>\n",
       "      <td>NaN</td>\n",
       "      <td>NaN</td>\n",
       "      <td>NaN</td>\n",
       "      <td>NaN</td>\n",
       "      <td>NaN</td>\n",
       "    </tr>\n",
       "    <tr>\n",
       "      <th>quality_4</th>\n",
       "      <td>NaN</td>\n",
       "      <td>NaN</td>\n",
       "      <td>NaN</td>\n",
       "      <td>NaN</td>\n",
       "      <td>NaN</td>\n",
       "      <td>NaN</td>\n",
       "      <td>NaN</td>\n",
       "      <td>NaN</td>\n",
       "      <td>NaN</td>\n",
       "      <td>NaN</td>\n",
       "      <td>NaN</td>\n",
       "      <td>NaN</td>\n",
       "      <td>NaN</td>\n",
       "    </tr>\n",
       "    <tr>\n",
       "      <th>quality_5</th>\n",
       "      <td>0.065589</td>\n",
       "      <td>0.006549</td>\n",
       "      <td>0.065683</td>\n",
       "      <td>NaN</td>\n",
       "      <td>NaN</td>\n",
       "      <td>1.000000</td>\n",
       "      <td>0.005261</td>\n",
       "      <td>0.007743</td>\n",
       "      <td>0.006895</td>\n",
       "      <td>0.036309</td>\n",
       "      <td>0.786975</td>\n",
       "      <td>0.076589</td>\n",
       "      <td>0.074130</td>\n",
       "    </tr>\n",
       "    <tr>\n",
       "      <th>quality_6</th>\n",
       "      <td>-0.000219</td>\n",
       "      <td>0.000129</td>\n",
       "      <td>-0.000221</td>\n",
       "      <td>NaN</td>\n",
       "      <td>NaN</td>\n",
       "      <td>0.005261</td>\n",
       "      <td>1.000000</td>\n",
       "      <td>0.819261</td>\n",
       "      <td>0.000364</td>\n",
       "      <td>0.000470</td>\n",
       "      <td>0.011029</td>\n",
       "      <td>0.002310</td>\n",
       "      <td>0.000329</td>\n",
       "    </tr>\n",
       "    <tr>\n",
       "      <th>quality_7</th>\n",
       "      <td>0.000112</td>\n",
       "      <td>-0.000027</td>\n",
       "      <td>0.000108</td>\n",
       "      <td>NaN</td>\n",
       "      <td>NaN</td>\n",
       "      <td>0.007743</td>\n",
       "      <td>0.819261</td>\n",
       "      <td>1.000000</td>\n",
       "      <td>0.000305</td>\n",
       "      <td>0.000593</td>\n",
       "      <td>0.013022</td>\n",
       "      <td>-0.000465</td>\n",
       "      <td>-0.000761</td>\n",
       "    </tr>\n",
       "    <tr>\n",
       "      <th>quality_8</th>\n",
       "      <td>0.046357</td>\n",
       "      <td>0.994424</td>\n",
       "      <td>-0.000119</td>\n",
       "      <td>NaN</td>\n",
       "      <td>NaN</td>\n",
       "      <td>0.006895</td>\n",
       "      <td>0.000364</td>\n",
       "      <td>0.000305</td>\n",
       "      <td>1.000000</td>\n",
       "      <td>-0.000238</td>\n",
       "      <td>0.008391</td>\n",
       "      <td>0.003682</td>\n",
       "      <td>0.009927</td>\n",
       "    </tr>\n",
       "    <tr>\n",
       "      <th>quality_9</th>\n",
       "      <td>0.567735</td>\n",
       "      <td>-0.000035</td>\n",
       "      <td>0.568171</td>\n",
       "      <td>NaN</td>\n",
       "      <td>NaN</td>\n",
       "      <td>0.036309</td>\n",
       "      <td>0.000470</td>\n",
       "      <td>0.000593</td>\n",
       "      <td>-0.000238</td>\n",
       "      <td>1.000000</td>\n",
       "      <td>0.041793</td>\n",
       "      <td>0.005776</td>\n",
       "      <td>0.010902</td>\n",
       "    </tr>\n",
       "    <tr>\n",
       "      <th>quality_10</th>\n",
       "      <td>0.028646</td>\n",
       "      <td>0.007688</td>\n",
       "      <td>0.028897</td>\n",
       "      <td>NaN</td>\n",
       "      <td>NaN</td>\n",
       "      <td>0.786975</td>\n",
       "      <td>0.011029</td>\n",
       "      <td>0.013022</td>\n",
       "      <td>0.008391</td>\n",
       "      <td>0.041793</td>\n",
       "      <td>1.000000</td>\n",
       "      <td>0.034594</td>\n",
       "      <td>0.087345</td>\n",
       "    </tr>\n",
       "    <tr>\n",
       "      <th>quality_11</th>\n",
       "      <td>0.015601</td>\n",
       "      <td>0.001562</td>\n",
       "      <td>0.015603</td>\n",
       "      <td>NaN</td>\n",
       "      <td>NaN</td>\n",
       "      <td>0.076589</td>\n",
       "      <td>0.002310</td>\n",
       "      <td>-0.000465</td>\n",
       "      <td>0.003682</td>\n",
       "      <td>0.005776</td>\n",
       "      <td>0.034594</td>\n",
       "      <td>1.000000</td>\n",
       "      <td>0.476255</td>\n",
       "    </tr>\n",
       "    <tr>\n",
       "      <th>quality_12</th>\n",
       "      <td>0.009709</td>\n",
       "      <td>0.001087</td>\n",
       "      <td>0.009710</td>\n",
       "      <td>NaN</td>\n",
       "      <td>NaN</td>\n",
       "      <td>0.074130</td>\n",
       "      <td>0.000329</td>\n",
       "      <td>-0.000761</td>\n",
       "      <td>0.009927</td>\n",
       "      <td>0.010902</td>\n",
       "      <td>0.087345</td>\n",
       "      <td>0.476255</td>\n",
       "      <td>1.000000</td>\n",
       "    </tr>\n",
       "  </tbody>\n",
       "</table>\n",
       "</div>"
      ],
      "text/plain": [
       "            quality_0  quality_1  quality_2  quality_3  quality_4  quality_5  \\\n",
       "quality_0    1.000000   0.046760   0.997999        NaN        NaN   0.065589   \n",
       "quality_1    0.046760   1.000000  -0.000009        NaN        NaN   0.006549   \n",
       "quality_2    0.997999  -0.000009   1.000000        NaN        NaN   0.065683   \n",
       "quality_3         NaN        NaN        NaN        NaN        NaN        NaN   \n",
       "quality_4         NaN        NaN        NaN        NaN        NaN        NaN   \n",
       "quality_5    0.065589   0.006549   0.065683        NaN        NaN   1.000000   \n",
       "quality_6   -0.000219   0.000129  -0.000221        NaN        NaN   0.005261   \n",
       "quality_7    0.000112  -0.000027   0.000108        NaN        NaN   0.007743   \n",
       "quality_8    0.046357   0.994424  -0.000119        NaN        NaN   0.006895   \n",
       "quality_9    0.567735  -0.000035   0.568171        NaN        NaN   0.036309   \n",
       "quality_10   0.028646   0.007688   0.028897        NaN        NaN   0.786975   \n",
       "quality_11   0.015601   0.001562   0.015603        NaN        NaN   0.076589   \n",
       "quality_12   0.009709   0.001087   0.009710        NaN        NaN   0.074130   \n",
       "\n",
       "            quality_6  quality_7  quality_8  quality_9  quality_10  \\\n",
       "quality_0   -0.000219   0.000112   0.046357   0.567735    0.028646   \n",
       "quality_1    0.000129  -0.000027   0.994424  -0.000035    0.007688   \n",
       "quality_2   -0.000221   0.000108  -0.000119   0.568171    0.028897   \n",
       "quality_3         NaN        NaN        NaN        NaN         NaN   \n",
       "quality_4         NaN        NaN        NaN        NaN         NaN   \n",
       "quality_5    0.005261   0.007743   0.006895   0.036309    0.786975   \n",
       "quality_6    1.000000   0.819261   0.000364   0.000470    0.011029   \n",
       "quality_7    0.819261   1.000000   0.000305   0.000593    0.013022   \n",
       "quality_8    0.000364   0.000305   1.000000  -0.000238    0.008391   \n",
       "quality_9    0.000470   0.000593  -0.000238   1.000000    0.041793   \n",
       "quality_10   0.011029   0.013022   0.008391   0.041793    1.000000   \n",
       "quality_11   0.002310  -0.000465   0.003682   0.005776    0.034594   \n",
       "quality_12   0.000329  -0.000761   0.009927   0.010902    0.087345   \n",
       "\n",
       "            quality_11  quality_12  \n",
       "quality_0     0.015601    0.009709  \n",
       "quality_1     0.001562    0.001087  \n",
       "quality_2     0.015603    0.009710  \n",
       "quality_3          NaN         NaN  \n",
       "quality_4          NaN         NaN  \n",
       "quality_5     0.076589    0.074130  \n",
       "quality_6     0.002310    0.000329  \n",
       "quality_7    -0.000465   -0.000761  \n",
       "quality_8     0.003682    0.009927  \n",
       "quality_9     0.005776    0.010902  \n",
       "quality_10    0.034594    0.087345  \n",
       "quality_11    1.000000    0.476255  \n",
       "quality_12    0.476255    1.000000  "
      ]
     },
     "execution_count": 6,
     "metadata": {},
     "output_type": "execute_result"
    }
   ],
   "source": [
    "# null값과 -1값은 모두 제외하고 correlation을 계산\n",
    "temp = full_qua.dropna()\n",
    "temp = temp.loc[(temp['quality_0'] != -1) & (temp['quality_1'] != -1) & (temp['quality_2'] != -1) & \n",
    "                (temp['quality_5'] != -1) & (temp['quality_6'] != -1) & (temp['quality_11'] != -1), :]\n",
    "temp.iloc[:, 3:].corr()"
   ]
  },
  {
   "cell_type": "markdown",
   "metadata": {},
   "source": [
    "상관관계가 모두 NaN이 나온 'quality_3, 4'의 값을 아래와 같이 확인하여 본다."
   ]
  },
  {
   "cell_type": "code",
   "execution_count": 7,
   "metadata": {
    "ExecuteTime": {
     "end_time": "2021-03-14T02:36:49.831179Z",
     "start_time": "2021-03-14T02:36:49.817584Z"
    }
   },
   "outputs": [
    {
     "name": "stdout",
     "output_type": "stream",
     "text": [
      "------------------------------\n",
      "0    1066415\n",
      "Name: quality_3, dtype: int64\n",
      "------------------------------\n",
      "0    1066415\n",
      "Name: quality_4, dtype: int64\n",
      "------------------------------\n"
     ]
    }
   ],
   "source": [
    "print(\"-\"*30)\n",
    "print(temp['quality_3'].value_counts())\n",
    "print(\"-\"*30)\n",
    "print(temp['quality_4'].value_counts())\n",
    "print(\"-\"*30)"
   ]
  },
  {
   "cell_type": "markdown",
   "metadata": {},
   "source": [
    "'quality_3, 4'변수는 모두 0으로 이루어져 있기 때문에 NULL processing에서는 사용하지 않는다."
   ]
  },
  {
   "cell_type": "markdown",
   "metadata": {},
   "source": [
    "quality변수 사이의 상관관계를 시각화하면 다음과 같다."
   ]
  },
  {
   "cell_type": "code",
   "execution_count": 8,
   "metadata": {
    "ExecuteTime": {
     "end_time": "2021-03-14T02:36:49.889193Z",
     "start_time": "2021-03-14T02:36:49.832180Z"
    }
   },
   "outputs": [],
   "source": [
    "temp.drop(['quality_3', 'quality_4'], axis = 1, inplace = True)"
   ]
  },
  {
   "cell_type": "code",
   "execution_count": 9,
   "metadata": {
    "ExecuteTime": {
     "end_time": "2021-03-14T02:36:51.401464Z",
     "start_time": "2021-03-14T02:36:49.890193Z"
    },
    "scrolled": false
   },
   "outputs": [
    {
     "data": {
      "text/plain": [
       "<AxesSubplot:>"
      ]
     },
     "execution_count": 9,
     "metadata": {},
     "output_type": "execute_result"
    },
    {
     "data": {
      "image/png": "[encoded data removed]",
      "text/plain": [
       "<Figure size 1152x864 with 2 Axes>"
      ]
     },
     "metadata": {
      "needs_background": "light"
     },
     "output_type": "display_data"
    }
   ],
   "source": [
    "plt.figure(figsize = (16,12))\n",
    "sns.heatmap(temp.iloc[:, 3:].corr(), annot = True)"
   ]
  },
  {
   "cell_type": "markdown",
   "metadata": {},
   "source": [
    "NULL값을 가지는 quality 변수와 상관관계가 높은 변수들을 정리하면 다음과 같다.\n",
    "\n",
    "| NULL을 가지는 quality변수 | 높은 상관관계를 가지는 quality변수 |\n",
    "| :---: | :--- |\n",
    "| **quality_0** | quality_2(0.997), qualtiy_9(0.567) |\n",
    "| **quality_1** | qualtiy_8(0.994) |\n",
    "| **quality_2** | quality_0(0.997), qualtiy_9(0.568) |\n",
    "| **quality_5** | qualtiy_10(0.786) |\n",
    "| * 괄호 안은 두 변수 사이의 상관관계를 뜻한다.|\n"
   ]
  },
  {
   "cell_type": "markdown",
   "metadata": {},
   "source": [
    "'quality_0'과 'quality_2'의 상관관계는 높지만 둘다 NULL값이 존재하기 때문에, 두변수가 모두 NULL을 가지는 경우에 대한 NULL EDA를 먼저 진행한다. 그 후에 'quality_5'에 대한 NULL EDA를 차례로 진행한다.\n",
    "\\\n",
    "('quality_1'에 대한 NULL EDA를 진행하지 않는 이유는 'quality_8'과의 상관관계가 거의 1에 가깝기 때문이다. 즉, 'quality_1'이 NULL을 가질 때 'quality_8' 값을 이용하여 NULL을 대치할 수 있다.)"
   ]
  },
  {
   "cell_type": "markdown",
   "metadata": {},
   "source": [
    "## 2.2. quality_0, quality_2\n",
    "'quality_0, 2'의 상관관계는 거의 1에 가깝기 때문에, 두 변수 모두 NULL을 가진 경우에 대한 EDA를 진행한다. 이때 'quality_0, 2'는 -1패턴을 가지는 변수임과 동시에 'quality_9'와의 상관관계가 0.56이다. 따라서 NULL EDA는 이 두가지를 중심으로 진행한다."
   ]
  },
  {
   "cell_type": "markdown",
   "metadata": {},
   "source": [
    "**<-1패턴 확인>**"
   ]
  },
  {
   "cell_type": "code",
   "execution_count": 10,
   "metadata": {
    "ExecuteTime": {
     "end_time": "2021-03-14T02:36:51.456327Z",
     "start_time": "2021-03-14T02:36:51.401464Z"
    },
    "scrolled": true
   },
   "outputs": [
    {
     "data": {
      "text/html": [
       "<div>\n",
       "<style scoped>\n",
       "    .dataframe tbody tr th:only-of-type {\n",
       "        vertical-align: middle;\n",
       "    }\n",
       "\n",
       "    .dataframe tbody tr th {\n",
       "        vertical-align: top;\n",
       "    }\n",
       "\n",
       "    .dataframe thead th {\n",
       "        text-align: right;\n",
       "    }\n",
       "</style>\n",
       "<table border=\"1\" class=\"dataframe\">\n",
       "  <thead>\n",
       "    <tr style=\"text-align: right;\">\n",
       "      <th></th>\n",
       "      <th>time</th>\n",
       "      <th>user_id</th>\n",
       "      <th>fwver</th>\n",
       "      <th>quality_0</th>\n",
       "      <th>quality_1</th>\n",
       "      <th>quality_2</th>\n",
       "      <th>quality_3</th>\n",
       "      <th>quality_4</th>\n",
       "      <th>quality_5</th>\n",
       "      <th>quality_6</th>\n",
       "      <th>quality_7</th>\n",
       "      <th>quality_8</th>\n",
       "      <th>quality_9</th>\n",
       "      <th>quality_10</th>\n",
       "      <th>quality_11</th>\n",
       "      <th>quality_12</th>\n",
       "    </tr>\n",
       "  </thead>\n",
       "  <tbody>\n",
       "    <tr>\n",
       "      <th>72</th>\n",
       "      <td>20201118001000</td>\n",
       "      <td>10002</td>\n",
       "      <td>05.15.2138</td>\n",
       "      <td>-1.0</td>\n",
       "      <td>-1.0</td>\n",
       "      <td>-1.0</td>\n",
       "      <td>0</td>\n",
       "      <td>0</td>\n",
       "      <td>-1.0</td>\n",
       "      <td>-1</td>\n",
       "      <td>0.0</td>\n",
       "      <td>0.0</td>\n",
       "      <td>0.0</td>\n",
       "      <td>3.0</td>\n",
       "      <td>-1</td>\n",
       "      <td>0</td>\n",
       "    </tr>\n",
       "    <tr>\n",
       "      <th>73</th>\n",
       "      <td>20201118001000</td>\n",
       "      <td>10002</td>\n",
       "      <td>05.15.2138</td>\n",
       "      <td>-1.0</td>\n",
       "      <td>-1.0</td>\n",
       "      <td>-1.0</td>\n",
       "      <td>0</td>\n",
       "      <td>0</td>\n",
       "      <td>-1.0</td>\n",
       "      <td>-1</td>\n",
       "      <td>0.0</td>\n",
       "      <td>0.0</td>\n",
       "      <td>0.0</td>\n",
       "      <td>3.0</td>\n",
       "      <td>-1</td>\n",
       "      <td>0</td>\n",
       "    </tr>\n",
       "    <tr>\n",
       "      <th>130</th>\n",
       "      <td>20201102232000</td>\n",
       "      <td>10004</td>\n",
       "      <td>04.22.1750</td>\n",
       "      <td>-1.0</td>\n",
       "      <td>-1.0</td>\n",
       "      <td>-1.0</td>\n",
       "      <td>0</td>\n",
       "      <td>0</td>\n",
       "      <td>-1.0</td>\n",
       "      <td>-1</td>\n",
       "      <td>0.0</td>\n",
       "      <td>0.0</td>\n",
       "      <td>0.0</td>\n",
       "      <td>3.0</td>\n",
       "      <td>-1</td>\n",
       "      <td>0</td>\n",
       "    </tr>\n",
       "    <tr>\n",
       "      <th>131</th>\n",
       "      <td>20201102232000</td>\n",
       "      <td>10004</td>\n",
       "      <td>04.22.1750</td>\n",
       "      <td>-1.0</td>\n",
       "      <td>-1.0</td>\n",
       "      <td>-1.0</td>\n",
       "      <td>0</td>\n",
       "      <td>0</td>\n",
       "      <td>-1.0</td>\n",
       "      <td>-1</td>\n",
       "      <td>0.0</td>\n",
       "      <td>0.0</td>\n",
       "      <td>0.0</td>\n",
       "      <td>3.0</td>\n",
       "      <td>-1</td>\n",
       "      <td>0</td>\n",
       "    </tr>\n",
       "    <tr>\n",
       "      <th>158</th>\n",
       "      <td>20201119040000</td>\n",
       "      <td>10005</td>\n",
       "      <td>04.22.1750</td>\n",
       "      <td>-1.0</td>\n",
       "      <td>-1.0</td>\n",
       "      <td>-1.0</td>\n",
       "      <td>0</td>\n",
       "      <td>0</td>\n",
       "      <td>-1.0</td>\n",
       "      <td>-1</td>\n",
       "      <td>36.0</td>\n",
       "      <td>0.0</td>\n",
       "      <td>0.0</td>\n",
       "      <td>4.0</td>\n",
       "      <td>-1</td>\n",
       "      <td>0</td>\n",
       "    </tr>\n",
       "    <tr>\n",
       "      <th>...</th>\n",
       "      <td>...</td>\n",
       "      <td>...</td>\n",
       "      <td>...</td>\n",
       "      <td>...</td>\n",
       "      <td>...</td>\n",
       "      <td>...</td>\n",
       "      <td>...</td>\n",
       "      <td>...</td>\n",
       "      <td>...</td>\n",
       "      <td>...</td>\n",
       "      <td>...</td>\n",
       "      <td>...</td>\n",
       "      <td>...</td>\n",
       "      <td>...</td>\n",
       "      <td>...</td>\n",
       "      <td>...</td>\n",
       "    </tr>\n",
       "    <tr>\n",
       "      <th>747933</th>\n",
       "      <td>20201126011000</td>\n",
       "      <td>44996</td>\n",
       "      <td>04.22.1778</td>\n",
       "      <td>-1.0</td>\n",
       "      <td>-1.0</td>\n",
       "      <td>-1.0</td>\n",
       "      <td>0</td>\n",
       "      <td>0</td>\n",
       "      <td>-1.0</td>\n",
       "      <td>-1</td>\n",
       "      <td>0.0</td>\n",
       "      <td>0.0</td>\n",
       "      <td>0.0</td>\n",
       "      <td>5.0</td>\n",
       "      <td>-1</td>\n",
       "      <td>0</td>\n",
       "    </tr>\n",
       "    <tr>\n",
       "      <th>747934</th>\n",
       "      <td>20201126011000</td>\n",
       "      <td>44996</td>\n",
       "      <td>04.22.1778</td>\n",
       "      <td>-1.0</td>\n",
       "      <td>-1.0</td>\n",
       "      <td>-1.0</td>\n",
       "      <td>0</td>\n",
       "      <td>0</td>\n",
       "      <td>-1.0</td>\n",
       "      <td>-1</td>\n",
       "      <td>0.0</td>\n",
       "      <td>0.0</td>\n",
       "      <td>0.0</td>\n",
       "      <td>5.0</td>\n",
       "      <td>-1</td>\n",
       "      <td>0</td>\n",
       "    </tr>\n",
       "    <tr>\n",
       "      <th>747935</th>\n",
       "      <td>20201126011000</td>\n",
       "      <td>44996</td>\n",
       "      <td>04.22.1778</td>\n",
       "      <td>-1.0</td>\n",
       "      <td>-1.0</td>\n",
       "      <td>-1.0</td>\n",
       "      <td>0</td>\n",
       "      <td>0</td>\n",
       "      <td>-1.0</td>\n",
       "      <td>-1</td>\n",
       "      <td>0.0</td>\n",
       "      <td>0.0</td>\n",
       "      <td>0.0</td>\n",
       "      <td>5.0</td>\n",
       "      <td>-1</td>\n",
       "      <td>0</td>\n",
       "    </tr>\n",
       "    <tr>\n",
       "      <th>747938</th>\n",
       "      <td>20201127111000</td>\n",
       "      <td>44996</td>\n",
       "      <td>04.22.1778</td>\n",
       "      <td>-1.0</td>\n",
       "      <td>-1.0</td>\n",
       "      <td>-1.0</td>\n",
       "      <td>0</td>\n",
       "      <td>0</td>\n",
       "      <td>-1.0</td>\n",
       "      <td>-1</td>\n",
       "      <td>0.0</td>\n",
       "      <td>0.0</td>\n",
       "      <td>0.0</td>\n",
       "      <td>2.0</td>\n",
       "      <td>-1</td>\n",
       "      <td>0</td>\n",
       "    </tr>\n",
       "    <tr>\n",
       "      <th>747939</th>\n",
       "      <td>20201127111000</td>\n",
       "      <td>44996</td>\n",
       "      <td>04.22.1778</td>\n",
       "      <td>-1.0</td>\n",
       "      <td>-1.0</td>\n",
       "      <td>-1.0</td>\n",
       "      <td>0</td>\n",
       "      <td>0</td>\n",
       "      <td>-1.0</td>\n",
       "      <td>-1</td>\n",
       "      <td>0.0</td>\n",
       "      <td>0.0</td>\n",
       "      <td>0.0</td>\n",
       "      <td>2.0</td>\n",
       "      <td>-1</td>\n",
       "      <td>0</td>\n",
       "    </tr>\n",
       "  </tbody>\n",
       "</table>\n",
       "<p>281256 rows × 16 columns</p>\n",
       "</div>"
      ],
      "text/plain": [
       "                  time  user_id       fwver  quality_0  quality_1  quality_2  \\\n",
       "72      20201118001000    10002  05.15.2138       -1.0       -1.0       -1.0   \n",
       "73      20201118001000    10002  05.15.2138       -1.0       -1.0       -1.0   \n",
       "130     20201102232000    10004  04.22.1750       -1.0       -1.0       -1.0   \n",
       "131     20201102232000    10004  04.22.1750       -1.0       -1.0       -1.0   \n",
       "158     20201119040000    10005  04.22.1750       -1.0       -1.0       -1.0   \n",
       "...                ...      ...         ...        ...        ...        ...   \n",
       "747933  20201126011000    44996  04.22.1778       -1.0       -1.0       -1.0   \n",
       "747934  20201126011000    44996  04.22.1778       -1.0       -1.0       -1.0   \n",
       "747935  20201126011000    44996  04.22.1778       -1.0       -1.0       -1.0   \n",
       "747938  20201127111000    44996  04.22.1778       -1.0       -1.0       -1.0   \n",
       "747939  20201127111000    44996  04.22.1778       -1.0       -1.0       -1.0   \n",
       "\n",
       "        quality_3  quality_4  quality_5  quality_6  quality_7  quality_8  \\\n",
       "72              0          0       -1.0         -1        0.0        0.0   \n",
       "73              0          0       -1.0         -1        0.0        0.0   \n",
       "130             0          0       -1.0         -1        0.0        0.0   \n",
       "131             0          0       -1.0         -1        0.0        0.0   \n",
       "158             0          0       -1.0         -1       36.0        0.0   \n",
       "...           ...        ...        ...        ...        ...        ...   \n",
       "747933          0          0       -1.0         -1        0.0        0.0   \n",
       "747934          0          0       -1.0         -1        0.0        0.0   \n",
       "747935          0          0       -1.0         -1        0.0        0.0   \n",
       "747938          0          0       -1.0         -1        0.0        0.0   \n",
       "747939          0          0       -1.0         -1        0.0        0.0   \n",
       "\n",
       "        quality_9  quality_10  quality_11  quality_12  \n",
       "72            0.0         3.0          -1           0  \n",
       "73            0.0         3.0          -1           0  \n",
       "130           0.0         3.0          -1           0  \n",
       "131           0.0         3.0          -1           0  \n",
       "158           0.0         4.0          -1           0  \n",
       "...           ...         ...         ...         ...  \n",
       "747933        0.0         5.0          -1           0  \n",
       "747934        0.0         5.0          -1           0  \n",
       "747935        0.0         5.0          -1           0  \n",
       "747938        0.0         2.0          -1           0  \n",
       "747939        0.0         2.0          -1           0  \n",
       "\n",
       "[281256 rows x 16 columns]"
      ]
     },
     "execution_count": 10,
     "metadata": {},
     "output_type": "execute_result"
    }
   ],
   "source": [
    "# quality_0, 1, 2, 5, 6, 11은 모두 함께 -1패턴을 나타내는 경향을 보인다 \n",
    "temp = full_qua.loc[(full_qua['quality_0'] == -1)|(full_qua['quality_2'] == -1), :]\n",
    "temp"
   ]
  },
  {
   "cell_type": "markdown",
   "metadata": {},
   "source": [
    "위의 결과 테이블을 통해 'quality_0'또는 'quality_2'가 -1을 가질 때, 'quality_1, 5, 6, 11'도 함께 -1값을 가지는 경향을 확인할 수 있다. 이를 보다 자세히 알아보기 위해 각 변수가 가지는 모든 값을 아래에서 확인하여본다."
   ]
  },
  {
   "cell_type": "code",
   "execution_count": 11,
   "metadata": {
    "ExecuteTime": {
     "end_time": "2021-03-14T02:36:51.474331Z",
     "start_time": "2021-03-14T02:36:51.456327Z"
    },
    "scrolled": false
   },
   "outputs": [
    {
     "name": "stdout",
     "output_type": "stream",
     "text": [
      "------------------------------\n",
      "-1.0    257829\n",
      "Name: quality_0, dtype: int64\n",
      "------------------------------\n",
      "-1.0    281225\n",
      " 0.0        29\n",
      " 2.0         2\n",
      "Name: quality_1, dtype: int64\n",
      "------------------------------\n",
      "-1.0    281256\n",
      "Name: quality_2, dtype: int64\n",
      "------------------------------\n",
      "-1.0      281235\n",
      " 0.0          14\n",
      " 244.0         2\n",
      " 275.0         2\n",
      " 1.0           2\n",
      "Name: quality_5, dtype: int64\n",
      "------------------------------\n",
      "-1    281225\n",
      " 0        29\n",
      " 6         2\n",
      "Name: quality_6, dtype: int64\n",
      "------------------------------\n",
      "-1    281225\n",
      " 0        31\n",
      "Name: quality_11, dtype: int64\n",
      "------------------------------\n"
     ]
    }
   ],
   "source": [
    "# quality_0 또는 quality_2가 NULL일 때의 -1패턴 확인\n",
    "print(\"-\"*30)\n",
    "print(temp['quality_0'].value_counts())\n",
    "print(\"-\"*30)\n",
    "print(temp['quality_1'].value_counts())\n",
    "print(\"-\"*30)\n",
    "print(temp['quality_2'].value_counts())\n",
    "print(\"-\"*30)\n",
    "print(temp['quality_5'].value_counts())\n",
    "print(\"-\"*30)\n",
    "print(temp['quality_6'].value_counts())\n",
    "print(\"-\"*30)\n",
    "print(temp['quality_11'].value_counts())\n",
    "print(\"-\"*30)"
   ]
  },
  {
   "cell_type": "markdown",
   "metadata": {},
   "source": [
    "위 결과를 통해 'quality_0'이나 'quality_2'가 -1을 가질 때 'quality_1, 5, 6, 11'도 함께 -1을 가지는 경향을 확인하였다. 따라서 'quality_1, 5, 6, 11'변수 중 -1패턴이 보이면, 'quality_0, 2'도 -1로 NULL값을 대치한다. "
   ]
  },
  {
   "cell_type": "markdown",
   "metadata": {},
   "source": [
    "**<quality_9와의 관계 확인>**"
   ]
  },
  {
   "cell_type": "code",
   "execution_count": 12,
   "metadata": {
    "ExecuteTime": {
     "end_time": "2021-03-14T02:36:51.486334Z",
     "start_time": "2021-03-14T02:36:51.474331Z"
    }
   },
   "outputs": [
    {
     "data": {
      "text/plain": [
       "0.0    61164\n",
       "Name: quality_9, dtype: int64"
      ]
     },
     "execution_count": 12,
     "metadata": {},
     "output_type": "execute_result"
    }
   ],
   "source": [
    "# quality_0, 2가 NULL값을 가질 때 quality_9가 어떤 값을 가지는지 확인\n",
    "full_qua[(full_qua['quality_0'].isna()) & (full_qua['quality_2'].isna())]['quality_9'].value_counts()"
   ]
  },
  {
   "cell_type": "markdown",
   "metadata": {},
   "source": [
    "'quality_0, 2'가 동시에 NULL값을 가질 때의 'quality_9'는 모두 0이라는 값을 가진다. 따라서 'quality_9'가 0을 가질 때 'quality_0, 2'가 어떤 값을 가지는지 역으로 탐색한다."
   ]
  },
  {
   "cell_type": "code",
   "execution_count": 13,
   "metadata": {
    "ExecuteTime": {
     "end_time": "2021-03-14T02:36:51.724387Z",
     "start_time": "2021-03-14T02:36:51.487334Z"
    }
   },
   "outputs": [
    {
     "name": "stdout",
     "output_type": "stream",
     "text": [
      "------------------------------\n",
      " 0.0    1028579\n",
      "-1.0     248425\n",
      "Name: quality_0, dtype: int64\n",
      "------------------------------\n",
      " 0.0    1180299\n",
      "-1.0     270525\n",
      "Name: quality_2, dtype: int64\n",
      "------------------------------\n"
     ]
    }
   ],
   "source": [
    "# quality_9가 0값을 가질 때 quality_0, 2가 어떤 값을 가지는지 확인\n",
    "print(\"-\"*30)\n",
    "print(full_qua[full_qua['quality_9']==0]['quality_0'].value_counts())\n",
    "print(\"-\"*30)\n",
    "print(full_qua[full_qua['quality_9']==0]['quality_2'].value_counts())\n",
    "print(\"-\"*30)"
   ]
  },
  {
   "cell_type": "markdown",
   "metadata": {},
   "source": [
    "'quality_9'가 0일 때 'quality_0, 2'는 모두 0 또는 -1을 가진다. 위에서 탐색한 -1패턴 내용과 종합하여 보면, 다음과 같이 정리할 수 있다.\n",
    "* 'quality_1, 5, 6, 11' 중 -1패턴이 하나라도 존재할때는 'quality_0, 2'의 NULL값을 -1로 대치한다.\n",
    "* -1패턴이 보이지 않는 경우는 'quality_0, 2'의 NULL값을 0으로 대치한다"
   ]
  },
  {
   "cell_type": "markdown",
   "metadata": {},
   "source": [
    "## 2.3. quality_5\n",
    "'quality_5'는 'qualtiy_10'과 0.786이라는 상관관계를 가짐과 동시에 -1패턴을 보이는 변수이기 때문에, 이를 중심으로 NULL EDA를 진행한다."
   ]
  },
  {
   "cell_type": "markdown",
   "metadata": {},
   "source": [
    "**<-1패턴 확인>**"
   ]
  },
  {
   "cell_type": "markdown",
   "metadata": {},
   "source": [
    "quality_5가 -1패턴을 가질 때, 대부분의 'quality_0, 1, 2, 6, 11'는 모두 -1을 가지는 것을 아래의 결과를 통해 확인할 수 있다."
   ]
  },
  {
   "cell_type": "code",
   "execution_count": 14,
   "metadata": {
    "ExecuteTime": {
     "end_time": "2021-03-14T02:36:51.773902Z",
     "start_time": "2021-03-14T02:36:51.724387Z"
    },
    "scrolled": false
   },
   "outputs": [
    {
     "name": "stdout",
     "output_type": "stream",
     "text": [
      "------------------------------\n",
      "-1.0    257808\n",
      "Name: quality_0, dtype: int64\n",
      "------------------------------\n",
      "-1.0    295106\n",
      " 0.0        13\n",
      " 1.0        11\n",
      " 2.0        10\n",
      " 3.0         1\n",
      " 5.0         1\n",
      "Name: quality_1, dtype: int64\n",
      "------------------------------\n",
      "-1.0    281235\n",
      "Name: quality_2, dtype: int64\n",
      "------------------------------\n",
      "-1      295020\n",
      " 1          24\n",
      " 2          17\n",
      " 0          13\n",
      " 3          12\n",
      " 4          10\n",
      " 7           9\n",
      " 5           8\n",
      " 6           7\n",
      " 11          4\n",
      " 8           3\n",
      " 10          3\n",
      " 12          3\n",
      " 9           3\n",
      " 15          2\n",
      " 18          1\n",
      " 55          1\n",
      " 86          1\n",
      " 130         1\n",
      "Name: quality_6, dtype: int64\n",
      "------------------------------\n",
      "-1    295131\n",
      " 0        11\n",
      "Name: quality_11, dtype: int64\n",
      "------------------------------\n"
     ]
    }
   ],
   "source": [
    "# quality_5가 NULL일 때의 -1패턴 확인\n",
    "temp = full_qua.loc[(full_qua['quality_5'] == -1), :]\n",
    "print(\"-\"*30)\n",
    "print(temp['quality_0'].value_counts())\n",
    "print(\"-\"*30)\n",
    "print(temp['quality_1'].value_counts())\n",
    "print(\"-\"*30)\n",
    "print(temp['quality_2'].value_counts())\n",
    "print(\"-\"*30)\n",
    "print(temp['quality_6'].value_counts())\n",
    "print(\"-\"*30)\n",
    "print(temp['quality_11'].value_counts())\n",
    "print(\"-\"*30)"
   ]
  },
  {
   "cell_type": "markdown",
   "metadata": {},
   "source": [
    "**<quality_9와의 관계 확인>**"
   ]
  },
  {
   "cell_type": "markdown",
   "metadata": {},
   "source": [
    "'quality_5'가 NULL을 가질 때, 'quality_10'은 아래와 같이 모두 매우 큰 값을 가진다. "
   ]
  },
  {
   "cell_type": "code",
   "execution_count": 15,
   "metadata": {
    "ExecuteTime": {
     "end_time": "2021-03-14T02:36:51.779904Z",
     "start_time": "2021-03-14T02:36:51.773902Z"
    },
    "scrolled": false
   },
   "outputs": [
    {
     "data": {
      "text/plain": [
       "quality_10\n",
       "1172849.0     3\n",
       "1170195.0     3\n",
       "1168491.0     3\n",
       "1163224.0     3\n",
       "1159867.0     3\n",
       "1103961.0     3\n",
       "1037689.0     2\n",
       "1005588.0     2\n",
       "1012799.0     2\n",
       "1013708.0     2\n",
       "1015637.0     2\n",
       "1078598.0     2\n",
       "1073366.0     2\n",
       "1077718.0     2\n",
       "843420.0      2\n",
       "1078927.0     2\n",
       "1086404.0     2\n",
       "938660.0      2\n",
       "781184.0      2\n",
       "143329.0      1\n",
       "790615.0      1\n",
       "156060.0      1\n",
       "159698.0      1\n",
       "161367.0      1\n",
       "161642.0      1\n",
       "166060.0      1\n",
       "175179.0      1\n",
       "200496.0      1\n",
       "212353.0      1\n",
       "239516.0      1\n",
       "283710.0      1\n",
       "293913.0      1\n",
       "497429.0      1\n",
       "501073.0      1\n",
       "501599.0      1\n",
       "631620.0      1\n",
       "673784.0      1\n",
       "681199.0      1\n",
       "114120.0      1\n",
       "dtype: int64"
      ]
     },
     "execution_count": 15,
     "metadata": {},
     "output_type": "execute_result"
    }
   ],
   "source": [
    "# quality_5가 NULL일때, quality_10이 가지는 값\n",
    "full_qua[full_qua['quality_5'].isna()][['quality_10']].value_counts()"
   ]
  },
  {
   "cell_type": "code",
   "execution_count": 16,
   "metadata": {
    "ExecuteTime": {
     "end_time": "2021-03-14T02:36:51.783905Z",
     "start_time": "2021-03-14T02:36:51.779904Z"
    }
   },
   "outputs": [
    {
     "data": {
      "text/plain": [
       "114120.0"
      ]
     },
     "execution_count": 16,
     "metadata": {},
     "output_type": "execute_result"
    }
   ],
   "source": [
    "min(full_qua[full_qua['quality_5'].isna()]['quality_10'])"
   ]
  },
  {
   "cell_type": "markdown",
   "metadata": {},
   "source": [
    "'quality_5'가 NULL일 때'quality_10'의 최솟값은 114,120으로 굉장히 큰 값을 가진다. 따라서 'quality_10'이 큰 값을 가질 때의 'quality_5'값을 역으로 확인해본다."
   ]
  },
  {
   "cell_type": "markdown",
   "metadata": {},
   "source": [
    "먼저 'quality_10'에 대한 내림차순 값을 확인해보자."
   ]
  },
  {
   "cell_type": "code",
   "execution_count": 17,
   "metadata": {
    "ExecuteTime": {
     "end_time": "2021-03-14T02:36:52.050075Z",
     "start_time": "2021-03-14T02:36:51.783905Z"
    },
    "scrolled": true
   },
   "outputs": [
    {
     "data": {
      "text/html": [
       "<div>\n",
       "<style scoped>\n",
       "    .dataframe tbody tr th:only-of-type {\n",
       "        vertical-align: middle;\n",
       "    }\n",
       "\n",
       "    .dataframe tbody tr th {\n",
       "        vertical-align: top;\n",
       "    }\n",
       "\n",
       "    .dataframe thead th {\n",
       "        text-align: right;\n",
       "    }\n",
       "</style>\n",
       "<table border=\"1\" class=\"dataframe\">\n",
       "  <thead>\n",
       "    <tr style=\"text-align: right;\">\n",
       "      <th></th>\n",
       "      <th>time</th>\n",
       "      <th>user_id</th>\n",
       "      <th>fwver</th>\n",
       "      <th>quality_0</th>\n",
       "      <th>quality_1</th>\n",
       "      <th>quality_2</th>\n",
       "      <th>quality_3</th>\n",
       "      <th>quality_4</th>\n",
       "      <th>quality_5</th>\n",
       "      <th>quality_6</th>\n",
       "      <th>quality_7</th>\n",
       "      <th>quality_8</th>\n",
       "      <th>quality_9</th>\n",
       "      <th>quality_10</th>\n",
       "      <th>quality_11</th>\n",
       "      <th>quality_12</th>\n",
       "    </tr>\n",
       "  </thead>\n",
       "  <tbody>\n",
       "    <tr>\n",
       "      <th>258732</th>\n",
       "      <td>20201125204000</td>\n",
       "      <td>14701</td>\n",
       "      <td>05.15.2138</td>\n",
       "      <td>-1.0</td>\n",
       "      <td>-1.0</td>\n",
       "      <td>-1.0</td>\n",
       "      <td>0</td>\n",
       "      <td>0</td>\n",
       "      <td>-1.0</td>\n",
       "      <td>-1</td>\n",
       "      <td>0.0</td>\n",
       "      <td>0.0</td>\n",
       "      <td>13.0</td>\n",
       "      <td>1910175.0</td>\n",
       "      <td>-1</td>\n",
       "      <td>0</td>\n",
       "    </tr>\n",
       "    <tr>\n",
       "      <th>258743</th>\n",
       "      <td>20201125204000</td>\n",
       "      <td>14701</td>\n",
       "      <td>05.15.2138</td>\n",
       "      <td>5.0</td>\n",
       "      <td>0.0</td>\n",
       "      <td>5.0</td>\n",
       "      <td>0</td>\n",
       "      <td>0</td>\n",
       "      <td>637385.0</td>\n",
       "      <td>0</td>\n",
       "      <td>0.0</td>\n",
       "      <td>0.0</td>\n",
       "      <td>13.0</td>\n",
       "      <td>1910175.0</td>\n",
       "      <td>0</td>\n",
       "      <td>0</td>\n",
       "    </tr>\n",
       "    <tr>\n",
       "      <th>258741</th>\n",
       "      <td>20201125204000</td>\n",
       "      <td>14701</td>\n",
       "      <td>05.15.2138</td>\n",
       "      <td>3.0</td>\n",
       "      <td>0.0</td>\n",
       "      <td>3.0</td>\n",
       "      <td>0</td>\n",
       "      <td>0</td>\n",
       "      <td>635515.0</td>\n",
       "      <td>0</td>\n",
       "      <td>0.0</td>\n",
       "      <td>0.0</td>\n",
       "      <td>13.0</td>\n",
       "      <td>1910175.0</td>\n",
       "      <td>0</td>\n",
       "      <td>0</td>\n",
       "    </tr>\n",
       "    <tr>\n",
       "      <th>258740</th>\n",
       "      <td>20201125204000</td>\n",
       "      <td>14701</td>\n",
       "      <td>05.15.2138</td>\n",
       "      <td>-1.0</td>\n",
       "      <td>-1.0</td>\n",
       "      <td>-1.0</td>\n",
       "      <td>0</td>\n",
       "      <td>0</td>\n",
       "      <td>-1.0</td>\n",
       "      <td>-1</td>\n",
       "      <td>0.0</td>\n",
       "      <td>0.0</td>\n",
       "      <td>13.0</td>\n",
       "      <td>1910175.0</td>\n",
       "      <td>-1</td>\n",
       "      <td>0</td>\n",
       "    </tr>\n",
       "    <tr>\n",
       "      <th>258739</th>\n",
       "      <td>20201125204000</td>\n",
       "      <td>14701</td>\n",
       "      <td>05.15.2138</td>\n",
       "      <td>-1.0</td>\n",
       "      <td>-1.0</td>\n",
       "      <td>-1.0</td>\n",
       "      <td>0</td>\n",
       "      <td>0</td>\n",
       "      <td>-1.0</td>\n",
       "      <td>-1</td>\n",
       "      <td>0.0</td>\n",
       "      <td>0.0</td>\n",
       "      <td>13.0</td>\n",
       "      <td>1910175.0</td>\n",
       "      <td>-1</td>\n",
       "      <td>0</td>\n",
       "    </tr>\n",
       "    <tr>\n",
       "      <th>258738</th>\n",
       "      <td>20201125204000</td>\n",
       "      <td>14701</td>\n",
       "      <td>05.15.2138</td>\n",
       "      <td>-1.0</td>\n",
       "      <td>-1.0</td>\n",
       "      <td>-1.0</td>\n",
       "      <td>0</td>\n",
       "      <td>0</td>\n",
       "      <td>-1.0</td>\n",
       "      <td>-1</td>\n",
       "      <td>0.0</td>\n",
       "      <td>0.0</td>\n",
       "      <td>13.0</td>\n",
       "      <td>1910175.0</td>\n",
       "      <td>-1</td>\n",
       "      <td>0</td>\n",
       "    </tr>\n",
       "    <tr>\n",
       "      <th>258737</th>\n",
       "      <td>20201125204000</td>\n",
       "      <td>14701</td>\n",
       "      <td>05.15.2138</td>\n",
       "      <td>-1.0</td>\n",
       "      <td>-1.0</td>\n",
       "      <td>-1.0</td>\n",
       "      <td>0</td>\n",
       "      <td>0</td>\n",
       "      <td>-1.0</td>\n",
       "      <td>-1</td>\n",
       "      <td>0.0</td>\n",
       "      <td>0.0</td>\n",
       "      <td>13.0</td>\n",
       "      <td>1910175.0</td>\n",
       "      <td>-1</td>\n",
       "      <td>0</td>\n",
       "    </tr>\n",
       "    <tr>\n",
       "      <th>258736</th>\n",
       "      <td>20201125204000</td>\n",
       "      <td>14701</td>\n",
       "      <td>05.15.2138</td>\n",
       "      <td>-1.0</td>\n",
       "      <td>-1.0</td>\n",
       "      <td>-1.0</td>\n",
       "      <td>0</td>\n",
       "      <td>0</td>\n",
       "      <td>-1.0</td>\n",
       "      <td>-1</td>\n",
       "      <td>0.0</td>\n",
       "      <td>0.0</td>\n",
       "      <td>13.0</td>\n",
       "      <td>1910175.0</td>\n",
       "      <td>-1</td>\n",
       "      <td>0</td>\n",
       "    </tr>\n",
       "    <tr>\n",
       "      <th>258735</th>\n",
       "      <td>20201125204000</td>\n",
       "      <td>14701</td>\n",
       "      <td>05.15.2138</td>\n",
       "      <td>-1.0</td>\n",
       "      <td>-1.0</td>\n",
       "      <td>-1.0</td>\n",
       "      <td>0</td>\n",
       "      <td>0</td>\n",
       "      <td>-1.0</td>\n",
       "      <td>-1</td>\n",
       "      <td>0.0</td>\n",
       "      <td>0.0</td>\n",
       "      <td>13.0</td>\n",
       "      <td>1910175.0</td>\n",
       "      <td>-1</td>\n",
       "      <td>0</td>\n",
       "    </tr>\n",
       "    <tr>\n",
       "      <th>258734</th>\n",
       "      <td>20201125204000</td>\n",
       "      <td>14701</td>\n",
       "      <td>05.15.2138</td>\n",
       "      <td>-1.0</td>\n",
       "      <td>-1.0</td>\n",
       "      <td>-1.0</td>\n",
       "      <td>0</td>\n",
       "      <td>0</td>\n",
       "      <td>-1.0</td>\n",
       "      <td>-1</td>\n",
       "      <td>0.0</td>\n",
       "      <td>0.0</td>\n",
       "      <td>13.0</td>\n",
       "      <td>1910175.0</td>\n",
       "      <td>-1</td>\n",
       "      <td>0</td>\n",
       "    </tr>\n",
       "    <tr>\n",
       "      <th>258733</th>\n",
       "      <td>20201125204000</td>\n",
       "      <td>14701</td>\n",
       "      <td>05.15.2138</td>\n",
       "      <td>-1.0</td>\n",
       "      <td>-1.0</td>\n",
       "      <td>-1.0</td>\n",
       "      <td>0</td>\n",
       "      <td>0</td>\n",
       "      <td>-1.0</td>\n",
       "      <td>-1</td>\n",
       "      <td>0.0</td>\n",
       "      <td>0.0</td>\n",
       "      <td>13.0</td>\n",
       "      <td>1910175.0</td>\n",
       "      <td>-1</td>\n",
       "      <td>0</td>\n",
       "    </tr>\n",
       "    <tr>\n",
       "      <th>258742</th>\n",
       "      <td>20201125204000</td>\n",
       "      <td>14701</td>\n",
       "      <td>05.15.2138</td>\n",
       "      <td>5.0</td>\n",
       "      <td>0.0</td>\n",
       "      <td>5.0</td>\n",
       "      <td>0</td>\n",
       "      <td>0</td>\n",
       "      <td>637275.0</td>\n",
       "      <td>0</td>\n",
       "      <td>0.0</td>\n",
       "      <td>0.0</td>\n",
       "      <td>13.0</td>\n",
       "      <td>1910175.0</td>\n",
       "      <td>0</td>\n",
       "      <td>0</td>\n",
       "    </tr>\n",
       "    <tr>\n",
       "      <th>785866</th>\n",
       "      <td>20201108023000</td>\n",
       "      <td>24270</td>\n",
       "      <td>04.22.1750</td>\n",
       "      <td>-1.0</td>\n",
       "      <td>-1.0</td>\n",
       "      <td>-1.0</td>\n",
       "      <td>0</td>\n",
       "      <td>0</td>\n",
       "      <td>-1.0</td>\n",
       "      <td>-1</td>\n",
       "      <td>0.0</td>\n",
       "      <td>0.0</td>\n",
       "      <td>0.0</td>\n",
       "      <td>1249398.0</td>\n",
       "      <td>-1</td>\n",
       "      <td>0</td>\n",
       "    </tr>\n",
       "    <tr>\n",
       "      <th>785865</th>\n",
       "      <td>20201108023000</td>\n",
       "      <td>24270</td>\n",
       "      <td>04.22.1750</td>\n",
       "      <td>-1.0</td>\n",
       "      <td>-1.0</td>\n",
       "      <td>-1.0</td>\n",
       "      <td>0</td>\n",
       "      <td>0</td>\n",
       "      <td>-1.0</td>\n",
       "      <td>-1</td>\n",
       "      <td>0.0</td>\n",
       "      <td>0.0</td>\n",
       "      <td>0.0</td>\n",
       "      <td>1249398.0</td>\n",
       "      <td>-1</td>\n",
       "      <td>0</td>\n",
       "    </tr>\n",
       "    <tr>\n",
       "      <th>785856</th>\n",
       "      <td>20201108023000</td>\n",
       "      <td>24270</td>\n",
       "      <td>04.22.1750</td>\n",
       "      <td>0.0</td>\n",
       "      <td>0.0</td>\n",
       "      <td>0.0</td>\n",
       "      <td>0</td>\n",
       "      <td>0</td>\n",
       "      <td>9219.0</td>\n",
       "      <td>0</td>\n",
       "      <td>0.0</td>\n",
       "      <td>0.0</td>\n",
       "      <td>0.0</td>\n",
       "      <td>1249398.0</td>\n",
       "      <td>0</td>\n",
       "      <td>0</td>\n",
       "    </tr>\n",
       "    <tr>\n",
       "      <th>785864</th>\n",
       "      <td>20201108023000</td>\n",
       "      <td>24270</td>\n",
       "      <td>04.22.1750</td>\n",
       "      <td>0.0</td>\n",
       "      <td>0.0</td>\n",
       "      <td>0.0</td>\n",
       "      <td>0</td>\n",
       "      <td>0</td>\n",
       "      <td>258158.0</td>\n",
       "      <td>0</td>\n",
       "      <td>0.0</td>\n",
       "      <td>0.0</td>\n",
       "      <td>0.0</td>\n",
       "      <td>1249398.0</td>\n",
       "      <td>0</td>\n",
       "      <td>0</td>\n",
       "    </tr>\n",
       "    <tr>\n",
       "      <th>785863</th>\n",
       "      <td>20201108023000</td>\n",
       "      <td>24270</td>\n",
       "      <td>04.22.1750</td>\n",
       "      <td>0.0</td>\n",
       "      <td>0.0</td>\n",
       "      <td>0.0</td>\n",
       "      <td>0</td>\n",
       "      <td>0</td>\n",
       "      <td>290269.0</td>\n",
       "      <td>0</td>\n",
       "      <td>0.0</td>\n",
       "      <td>0.0</td>\n",
       "      <td>0.0</td>\n",
       "      <td>1249398.0</td>\n",
       "      <td>0</td>\n",
       "      <td>0</td>\n",
       "    </tr>\n",
       "    <tr>\n",
       "      <th>785857</th>\n",
       "      <td>20201108023000</td>\n",
       "      <td>24270</td>\n",
       "      <td>04.22.1750</td>\n",
       "      <td>0.0</td>\n",
       "      <td>0.0</td>\n",
       "      <td>0.0</td>\n",
       "      <td>0</td>\n",
       "      <td>0</td>\n",
       "      <td>6427.0</td>\n",
       "      <td>0</td>\n",
       "      <td>0.0</td>\n",
       "      <td>0.0</td>\n",
       "      <td>0.0</td>\n",
       "      <td>1249398.0</td>\n",
       "      <td>0</td>\n",
       "      <td>0</td>\n",
       "    </tr>\n",
       "    <tr>\n",
       "      <th>785858</th>\n",
       "      <td>20201108023000</td>\n",
       "      <td>24270</td>\n",
       "      <td>04.22.1750</td>\n",
       "      <td>-1.0</td>\n",
       "      <td>-1.0</td>\n",
       "      <td>-1.0</td>\n",
       "      <td>0</td>\n",
       "      <td>0</td>\n",
       "      <td>-1.0</td>\n",
       "      <td>-1</td>\n",
       "      <td>0.0</td>\n",
       "      <td>0.0</td>\n",
       "      <td>0.0</td>\n",
       "      <td>1249398.0</td>\n",
       "      <td>-1</td>\n",
       "      <td>0</td>\n",
       "    </tr>\n",
       "    <tr>\n",
       "      <th>785862</th>\n",
       "      <td>20201108023000</td>\n",
       "      <td>24270</td>\n",
       "      <td>04.22.1750</td>\n",
       "      <td>0.0</td>\n",
       "      <td>0.0</td>\n",
       "      <td>0.0</td>\n",
       "      <td>0</td>\n",
       "      <td>0</td>\n",
       "      <td>247698.0</td>\n",
       "      <td>0</td>\n",
       "      <td>0.0</td>\n",
       "      <td>0.0</td>\n",
       "      <td>0.0</td>\n",
       "      <td>1249398.0</td>\n",
       "      <td>0</td>\n",
       "      <td>0</td>\n",
       "    </tr>\n",
       "  </tbody>\n",
       "</table>\n",
       "</div>"
      ],
      "text/plain": [
       "                  time  user_id       fwver  quality_0  quality_1  quality_2  \\\n",
       "258732  20201125204000    14701  05.15.2138       -1.0       -1.0       -1.0   \n",
       "258743  20201125204000    14701  05.15.2138        5.0        0.0        5.0   \n",
       "258741  20201125204000    14701  05.15.2138        3.0        0.0        3.0   \n",
       "258740  20201125204000    14701  05.15.2138       -1.0       -1.0       -1.0   \n",
       "258739  20201125204000    14701  05.15.2138       -1.0       -1.0       -1.0   \n",
       "258738  20201125204000    14701  05.15.2138       -1.0       -1.0       -1.0   \n",
       "258737  20201125204000    14701  05.15.2138       -1.0       -1.0       -1.0   \n",
       "258736  20201125204000    14701  05.15.2138       -1.0       -1.0       -1.0   \n",
       "258735  20201125204000    14701  05.15.2138       -1.0       -1.0       -1.0   \n",
       "258734  20201125204000    14701  05.15.2138       -1.0       -1.0       -1.0   \n",
       "258733  20201125204000    14701  05.15.2138       -1.0       -1.0       -1.0   \n",
       "258742  20201125204000    14701  05.15.2138        5.0        0.0        5.0   \n",
       "785866  20201108023000    24270  04.22.1750       -1.0       -1.0       -1.0   \n",
       "785865  20201108023000    24270  04.22.1750       -1.0       -1.0       -1.0   \n",
       "785856  20201108023000    24270  04.22.1750        0.0        0.0        0.0   \n",
       "785864  20201108023000    24270  04.22.1750        0.0        0.0        0.0   \n",
       "785863  20201108023000    24270  04.22.1750        0.0        0.0        0.0   \n",
       "785857  20201108023000    24270  04.22.1750        0.0        0.0        0.0   \n",
       "785858  20201108023000    24270  04.22.1750       -1.0       -1.0       -1.0   \n",
       "785862  20201108023000    24270  04.22.1750        0.0        0.0        0.0   \n",
       "\n",
       "        quality_3  quality_4  quality_5  quality_6  quality_7  quality_8  \\\n",
       "258732          0          0       -1.0         -1        0.0        0.0   \n",
       "258743          0          0   637385.0          0        0.0        0.0   \n",
       "258741          0          0   635515.0          0        0.0        0.0   \n",
       "258740          0          0       -1.0         -1        0.0        0.0   \n",
       "258739          0          0       -1.0         -1        0.0        0.0   \n",
       "258738          0          0       -1.0         -1        0.0        0.0   \n",
       "258737          0          0       -1.0         -1        0.0        0.0   \n",
       "258736          0          0       -1.0         -1        0.0        0.0   \n",
       "258735          0          0       -1.0         -1        0.0        0.0   \n",
       "258734          0          0       -1.0         -1        0.0        0.0   \n",
       "258733          0          0       -1.0         -1        0.0        0.0   \n",
       "258742          0          0   637275.0          0        0.0        0.0   \n",
       "785866          0          0       -1.0         -1        0.0        0.0   \n",
       "785865          0          0       -1.0         -1        0.0        0.0   \n",
       "785856          0          0     9219.0          0        0.0        0.0   \n",
       "785864          0          0   258158.0          0        0.0        0.0   \n",
       "785863          0          0   290269.0          0        0.0        0.0   \n",
       "785857          0          0     6427.0          0        0.0        0.0   \n",
       "785858          0          0       -1.0         -1        0.0        0.0   \n",
       "785862          0          0   247698.0          0        0.0        0.0   \n",
       "\n",
       "        quality_9  quality_10  quality_11  quality_12  \n",
       "258732       13.0   1910175.0          -1           0  \n",
       "258743       13.0   1910175.0           0           0  \n",
       "258741       13.0   1910175.0           0           0  \n",
       "258740       13.0   1910175.0          -1           0  \n",
       "258739       13.0   1910175.0          -1           0  \n",
       "258738       13.0   1910175.0          -1           0  \n",
       "258737       13.0   1910175.0          -1           0  \n",
       "258736       13.0   1910175.0          -1           0  \n",
       "258735       13.0   1910175.0          -1           0  \n",
       "258734       13.0   1910175.0          -1           0  \n",
       "258733       13.0   1910175.0          -1           0  \n",
       "258742       13.0   1910175.0           0           0  \n",
       "785866        0.0   1249398.0          -1           0  \n",
       "785865        0.0   1249398.0          -1           0  \n",
       "785856        0.0   1249398.0           0           0  \n",
       "785864        0.0   1249398.0           0           0  \n",
       "785863        0.0   1249398.0           0           0  \n",
       "785857        0.0   1249398.0           0           0  \n",
       "785858        0.0   1249398.0          -1           0  \n",
       "785862        0.0   1249398.0           0           0  "
      ]
     },
     "execution_count": 17,
     "metadata": {},
     "output_type": "execute_result"
    }
   ],
   "source": [
    "# quality_10에 대한 내림차순 테이블\n",
    "full_qua.sort_values(by = ['quality_10'],  ascending=False).head(20)"
   ]
  },
  {
   "cell_type": "markdown",
   "metadata": {},
   "source": [
    "위 결과를 보면, 한 유저당 2시간동안 발생한 'quality_5'와 'quality_10'의 변화량이 다른 것을 확인할 수 있다. 즉, quality_10은 2시간동안 계속 같은 값을 유지한 반면, 'quality_5'는 큰 변동을 가지고 값이 변화한 것을 확인할 수 있다. 특히 위의 결과에서 'quality_5'는 -1패턴과 큰 양수 값이 번갈아 나타나는 것을 확인할 수 있다.\n",
    "\n",
    "이와 같이 서로 다른 변화량을 보이는 'quality_5, 10'의 관계를 확인해본다."
   ]
  },
  {
   "cell_type": "code",
   "execution_count": 18,
   "metadata": {
    "ExecuteTime": {
     "end_time": "2021-03-14T02:36:52.235117Z",
     "start_time": "2021-03-14T02:36:52.050075Z"
    },
    "scrolled": false
   },
   "outputs": [
    {
     "data": {
      "text/html": [
       "<div>\n",
       "<style scoped>\n",
       "    .dataframe tbody tr th:only-of-type {\n",
       "        vertical-align: middle;\n",
       "    }\n",
       "\n",
       "    .dataframe tbody tr th {\n",
       "        vertical-align: top;\n",
       "    }\n",
       "\n",
       "    .dataframe thead tr th {\n",
       "        text-align: left;\n",
       "    }\n",
       "\n",
       "    .dataframe thead tr:last-of-type th {\n",
       "        text-align: right;\n",
       "    }\n",
       "</style>\n",
       "<table border=\"1\" class=\"dataframe\">\n",
       "  <thead>\n",
       "    <tr>\n",
       "      <th></th>\n",
       "      <th></th>\n",
       "      <th colspan=\"2\" halign=\"left\">quality_5</th>\n",
       "      <th colspan=\"2\" halign=\"left\">quality_10</th>\n",
       "    </tr>\n",
       "    <tr>\n",
       "      <th></th>\n",
       "      <th></th>\n",
       "      <th>mean</th>\n",
       "      <th>std</th>\n",
       "      <th>mean</th>\n",
       "      <th>std</th>\n",
       "    </tr>\n",
       "    <tr>\n",
       "      <th>user_id</th>\n",
       "      <th>time</th>\n",
       "      <th></th>\n",
       "      <th></th>\n",
       "      <th></th>\n",
       "      <th></th>\n",
       "    </tr>\n",
       "  </thead>\n",
       "  <tbody>\n",
       "    <tr>\n",
       "      <th rowspan=\"2\" valign=\"top\">10000</th>\n",
       "      <th>20201129090000</th>\n",
       "      <td>0.333333</td>\n",
       "      <td>1.154701</td>\n",
       "      <td>4.0</td>\n",
       "      <td>0.0</td>\n",
       "    </tr>\n",
       "    <tr>\n",
       "      <th>20201130210000</th>\n",
       "      <td>0.666667</td>\n",
       "      <td>2.309401</td>\n",
       "      <td>8.0</td>\n",
       "      <td>0.0</td>\n",
       "    </tr>\n",
       "    <tr>\n",
       "      <th rowspan=\"3\" valign=\"top\">10002</th>\n",
       "      <th>20201104110000</th>\n",
       "      <td>0.000000</td>\n",
       "      <td>0.000000</td>\n",
       "      <td>0.0</td>\n",
       "      <td>0.0</td>\n",
       "    </tr>\n",
       "    <tr>\n",
       "      <th>20201106010000</th>\n",
       "      <td>0.166667</td>\n",
       "      <td>0.577350</td>\n",
       "      <td>2.0</td>\n",
       "      <td>0.0</td>\n",
       "    </tr>\n",
       "    <tr>\n",
       "      <th>20201111010000</th>\n",
       "      <td>0.333333</td>\n",
       "      <td>0.651339</td>\n",
       "      <td>4.0</td>\n",
       "      <td>0.0</td>\n",
       "    </tr>\n",
       "    <tr>\n",
       "      <th>...</th>\n",
       "      <th>...</th>\n",
       "      <td>...</td>\n",
       "      <td>...</td>\n",
       "      <td>...</td>\n",
       "      <td>...</td>\n",
       "    </tr>\n",
       "    <tr>\n",
       "      <th rowspan=\"3\" valign=\"top\">44996</th>\n",
       "      <th>20201125011000</th>\n",
       "      <td>0.750000</td>\n",
       "      <td>1.544786</td>\n",
       "      <td>9.0</td>\n",
       "      <td>0.0</td>\n",
       "    </tr>\n",
       "    <tr>\n",
       "      <th>20201126011000</th>\n",
       "      <td>0.166667</td>\n",
       "      <td>1.337116</td>\n",
       "      <td>5.0</td>\n",
       "      <td>0.0</td>\n",
       "    </tr>\n",
       "    <tr>\n",
       "      <th>20201127111000</th>\n",
       "      <td>0.000000</td>\n",
       "      <td>0.738549</td>\n",
       "      <td>2.0</td>\n",
       "      <td>0.0</td>\n",
       "    </tr>\n",
       "    <tr>\n",
       "      <th rowspan=\"2\" valign=\"top\">44997</th>\n",
       "      <th>20201102214000</th>\n",
       "      <td>0.833333</td>\n",
       "      <td>1.114641</td>\n",
       "      <td>10.0</td>\n",
       "      <td>0.0</td>\n",
       "    </tr>\n",
       "    <tr>\n",
       "      <th>20201125180000</th>\n",
       "      <td>0.250000</td>\n",
       "      <td>0.621582</td>\n",
       "      <td>3.0</td>\n",
       "      <td>0.0</td>\n",
       "    </tr>\n",
       "  </tbody>\n",
       "</table>\n",
       "<p>131214 rows × 4 columns</p>\n",
       "</div>"
      ],
      "text/plain": [
       "                       quality_5           quality_10     \n",
       "                            mean       std       mean  std\n",
       "user_id time                                              \n",
       "10000   20201129090000  0.333333  1.154701        4.0  0.0\n",
       "        20201130210000  0.666667  2.309401        8.0  0.0\n",
       "10002   20201104110000  0.000000  0.000000        0.0  0.0\n",
       "        20201106010000  0.166667  0.577350        2.0  0.0\n",
       "        20201111010000  0.333333  0.651339        4.0  0.0\n",
       "...                          ...       ...        ...  ...\n",
       "44996   20201125011000  0.750000  1.544786        9.0  0.0\n",
       "        20201126011000  0.166667  1.337116        5.0  0.0\n",
       "        20201127111000  0.000000  0.738549        2.0  0.0\n",
       "44997   20201102214000  0.833333  1.114641       10.0  0.0\n",
       "        20201125180000  0.250000  0.621582        3.0  0.0\n",
       "\n",
       "[131214 rows x 4 columns]"
      ]
     },
     "execution_count": 18,
     "metadata": {},
     "output_type": "execute_result"
    }
   ],
   "source": [
    "# quality_5와 quality_10의 시간에 따른 변화량 테이블\n",
    "# user_id와 time에 따른 quality_5와 quality_10의 평균과 분산\n",
    "table = full_qua.groupby(['user_id', 'time']).agg({'quality_5': ['mean', 'std'],\n",
    "                                                   'quality_10': ['mean', 'std']})\n",
    "table"
   ]
  },
  {
   "cell_type": "code",
   "execution_count": 19,
   "metadata": {
    "ExecuteTime": {
     "end_time": "2021-03-14T02:36:52.260123Z",
     "start_time": "2021-03-14T02:36:52.235117Z"
    },
    "scrolled": false
   },
   "outputs": [
    {
     "data": {
      "text/html": [
       "<div>\n",
       "<style scoped>\n",
       "    .dataframe tbody tr th:only-of-type {\n",
       "        vertical-align: middle;\n",
       "    }\n",
       "\n",
       "    .dataframe tbody tr th {\n",
       "        vertical-align: top;\n",
       "    }\n",
       "\n",
       "    .dataframe thead tr th {\n",
       "        text-align: left;\n",
       "    }\n",
       "</style>\n",
       "<table border=\"1\" class=\"dataframe\">\n",
       "  <thead>\n",
       "    <tr>\n",
       "      <th></th>\n",
       "      <th colspan=\"2\" halign=\"left\">quality_5</th>\n",
       "      <th colspan=\"2\" halign=\"left\">quality_10</th>\n",
       "    </tr>\n",
       "    <tr>\n",
       "      <th></th>\n",
       "      <th>mean</th>\n",
       "      <th>std</th>\n",
       "      <th>mean</th>\n",
       "      <th>std</th>\n",
       "    </tr>\n",
       "  </thead>\n",
       "  <tbody>\n",
       "    <tr>\n",
       "      <th>count</th>\n",
       "      <td>131214.000000</td>\n",
       "      <td>131214.000000</td>\n",
       "      <td>1.312140e+05</td>\n",
       "      <td>131214.000000</td>\n",
       "    </tr>\n",
       "    <tr>\n",
       "      <th>mean</th>\n",
       "      <td>73.754768</td>\n",
       "      <td>104.076586</td>\n",
       "      <td>8.451199e+02</td>\n",
       "      <td>0.000280</td>\n",
       "    </tr>\n",
       "    <tr>\n",
       "      <th>std</th>\n",
       "      <td>1638.752860</td>\n",
       "      <td>1521.753331</td>\n",
       "      <td>1.703877e+04</td>\n",
       "      <td>0.063157</td>\n",
       "    </tr>\n",
       "    <tr>\n",
       "      <th>min</th>\n",
       "      <td>-1.000000</td>\n",
       "      <td>0.000000</td>\n",
       "      <td>0.000000e+00</td>\n",
       "      <td>0.000000</td>\n",
       "    </tr>\n",
       "    <tr>\n",
       "      <th>25%</th>\n",
       "      <td>0.083333</td>\n",
       "      <td>0.668558</td>\n",
       "      <td>3.000000e+00</td>\n",
       "      <td>0.000000</td>\n",
       "    </tr>\n",
       "    <tr>\n",
       "      <th>50%</th>\n",
       "      <td>0.333333</td>\n",
       "      <td>1.154701</td>\n",
       "      <td>6.000000e+00</td>\n",
       "      <td>0.000000</td>\n",
       "    </tr>\n",
       "    <tr>\n",
       "      <th>75%</th>\n",
       "      <td>2.416667</td>\n",
       "      <td>3.785939</td>\n",
       "      <td>3.100000e+01</td>\n",
       "      <td>0.000000</td>\n",
       "    </tr>\n",
       "    <tr>\n",
       "      <th>max</th>\n",
       "      <td>159180.500000</td>\n",
       "      <td>287970.516187</td>\n",
       "      <td>1.910175e+06</td>\n",
       "      <td>20.905599</td>\n",
       "    </tr>\n",
       "  </tbody>\n",
       "</table>\n",
       "</div>"
      ],
      "text/plain": [
       "           quality_5                   quality_10               \n",
       "                mean            std          mean            std\n",
       "count  131214.000000  131214.000000  1.312140e+05  131214.000000\n",
       "mean       73.754768     104.076586  8.451199e+02       0.000280\n",
       "std      1638.752860    1521.753331  1.703877e+04       0.063157\n",
       "min        -1.000000       0.000000  0.000000e+00       0.000000\n",
       "25%         0.083333       0.668558  3.000000e+00       0.000000\n",
       "50%         0.333333       1.154701  6.000000e+00       0.000000\n",
       "75%         2.416667       3.785939  3.100000e+01       0.000000\n",
       "max    159180.500000  287970.516187  1.910175e+06      20.905599"
      ]
     },
     "execution_count": 19,
     "metadata": {},
     "output_type": "execute_result"
    }
   ],
   "source": [
    "# quality_5와 quality_10의 시간당 평균과 분산의 분포\n",
    "table.describe()"
   ]
  },
  {
   "cell_type": "code",
   "execution_count": 20,
   "metadata": {
    "ExecuteTime": {
     "end_time": "2021-03-14T02:36:52.264124Z",
     "start_time": "2021-03-14T02:36:52.260123Z"
    }
   },
   "outputs": [
    {
     "data": {
      "text/plain": [
       "0.000000     131210\n",
       "4.596785          2\n",
       "20.905599         1\n",
       "6.639801          1\n",
       "Name: std, dtype: int64"
      ]
     },
     "execution_count": 20,
     "metadata": {},
     "output_type": "execute_result"
    }
   ],
   "source": [
    "# quality_10의 std의 표준편차는 0.06으로 매우 작다.\n",
    "# quality_10의 std가 어떤 값을 가지는지 확인\n",
    "table['quality_10']['std'].value_counts()"
   ]
  },
  {
   "cell_type": "markdown",
   "metadata": {},
   "source": [
    "'quality_10'의 표준편차는 바로 위의 결과와 같이 대부분이 0이다. 이것이 의미하는 바는 품질이 기록이 시작된 2시간동안 'quality_10'은 계속 같은 값을 유지한다는 것이다. 그 반대로 'quality_5'의 표준편차의 평균이 'quality_10'보다 크게 나타나, 2시간동안의 변화량이 존재하는 것을 확인할 수 있다. \n",
    "\n",
    "그럼 'quality_10'이 100,000이상인 경우에 대해 'quality_5, 10'의 산점도로 두 변수의 상관관계를 확인해본다."
   ]
  },
  {
   "cell_type": "code",
   "execution_count": 21,
   "metadata": {
    "ExecuteTime": {
     "end_time": "2021-03-14T02:36:52.391152Z",
     "start_time": "2021-03-14T02:36:52.264124Z"
    },
    "scrolled": true
   },
   "outputs": [
    {
     "data": {
      "image/png": "[encoded data removed]",
      "text/plain": [
       "<Figure size 432x288 with 1 Axes>"
      ]
     },
     "metadata": {
      "needs_background": "light"
     },
     "output_type": "display_data"
    }
   ],
   "source": [
    "temp = full_qua.loc[(full_qua['quality_10']>=100000)&(full_qua['quality_5']!=-1), :][['quality_5', 'quality_10']]\n",
    "\n",
    "plt.scatter(temp['quality_5'], temp['quality_10'])\n",
    "plt.xlabel(\"quality_5\")\n",
    "plt.ylabel(\"quality_10\")\n",
    "plt.show()"
   ]
  },
  {
   "cell_type": "markdown",
   "metadata": {},
   "source": [
    "위 산점도를 통해 'quality_10'이 클수록 'quality_5'도 큰 값을 가지는 것을 확인할 수 있다. 하지만 같은 'quality_10'을 가지더라도 'quality_5'의 분산이 크기 때문에, 유저당 품질이 기록된 2시간동안 발생한 'quality_5'의 평균으로 NULL값을 대치한다. "
   ]
  },
  {
   "cell_type": "markdown",
   "metadata": {},
   "source": [
    "# 3. NULL processing\n",
    "NULL processing은 각 변수에 대해 다음과 같이 진행된다.\n",
    "\n",
    "**fwver(err_data이용)**\n",
    "* fwver에 결측이 있는 user_id별로 사용한 fwver 횟수를 구한다.\n",
    "* 사용한 fwver 수가 1개라면, 해당 fwver값으로 대치한다.\n",
    "* 만약 fwver 수가 여러개라면, err_data에 기록된 time과 quality_data에 기록된 time차이가 가장 적은 fwver을 선택하여 대치한다.\n",
    "\n",
    "\n",
    "**quality_0, quality_2**\n",
    "* quality_0, 2의 상관관계는 0.99로 거의 동일하다.\n",
    "* quality_0, 2가 동시에 결측인 경우에는 -1패턴을 따르는지 여부를 확인한 후 다음과 같이 대치를 진행한다.\n",
    "    - -1패턴이 보이는 경우, quality_0, 2도 -1로 대치한다.\n",
    "    - -1패턴이 보이지 않는 경우 0으로 대치한다.\n",
    "* quality_0가 결측이고 quality_2에 값이 있으면 quality_2의 값으로 대치하고, 그 반대의 경우는 quality_0으로 quality_2의 결측을 대치한다 대치한다.\n",
    "\n",
    "\n",
    "**quality_1**\n",
    "* quality_8과의 상관관계가 0.99로 높게 나타났기 때문에, quality_8을 이용하여 결측을 처리한다.\n",
    "* quality_1도 -1패턴을 가지는 변수지만 NULL값을 가지는 row 중에서 -1패턴을 다지는 다른 quality변수가 존재하지 않았다. 따라서 -1패턴을 확인하지 않고 바로 quality_8을 이용해 NULL 대치를 진행하였다.\n",
    "\n",
    "\n",
    "**quality_5**\n",
    "* quality_5와 quality_10의 상관관계가 큰데, 실제로 quality_10이 클 때 결측이 발생하는 것을 확인할 수 있다.\n",
    "* quality_10이 큰 경우에 quality_5는 다음 두가지 패턴을 보인다.\n",
    "    - quality_0, 1, 2, 6, 11에서 -1패턴이 보이는 경우 quality_5도 -1로 대치한다.\n",
    "    - -1 패턴이 없는 경우 quality_5도 매우 큰 값을 가지지만 계속 변화하는 값을 가지기 때문에, `quality_data.groupby('quality_10')['quality_5'].mean()`으로 대치한다. (이때 quality_10으로 그룹짓는 이유는 quality_10 데이터는 품질기록시간인 2시간동안 계속 같은 값이 유지가 되는 특성이 있으며, 큰 값들은 유저와 품질 기록 시간이 유일하게 존재하기 때문이다.)\n"
   ]
  },
  {
   "cell_type": "markdown",
   "metadata": {},
   "source": [
    "## 3.1. train_quality_data NULL processing"
   ]
  },
  {
   "cell_type": "code",
   "execution_count": 22,
   "metadata": {
    "ExecuteTime": {
     "end_time": "2021-03-14T02:36:52.426160Z",
     "start_time": "2021-03-14T02:36:52.391152Z"
    },
    "scrolled": true
   },
   "outputs": [
    {
     "data": {
      "text/plain": [
       "time               0\n",
       "user_id            0\n",
       "fwver          40080\n",
       "quality_0     144432\n",
       "quality_1          0\n",
       "quality_2      40113\n",
       "quality_3          0\n",
       "quality_4          0\n",
       "quality_5         20\n",
       "quality_6          0\n",
       "quality_7          0\n",
       "quality_8          0\n",
       "quality_9          0\n",
       "quality_10         0\n",
       "quality_11         0\n",
       "quality_12         0\n",
       "dtype: int64"
      ]
     },
     "execution_count": 22,
     "metadata": {},
     "output_type": "execute_result"
    }
   ],
   "source": [
    "train_qua.isna().sum() #fwver, quality_0, 2, 5에 결측 존재"
   ]
  },
  {
   "cell_type": "markdown",
   "metadata": {},
   "source": [
    "### fwver"
   ]
  },
  {
   "cell_type": "code",
   "execution_count": 23,
   "metadata": {
    "ExecuteTime": {
     "end_time": "2021-03-14T02:36:54.309884Z",
     "start_time": "2021-03-14T02:36:52.428161Z"
    }
   },
   "outputs": [],
   "source": [
    "#fwna_id는 train_quality에서 fwver에 결측을 가진 user_id 모음\n",
    "#fw_n은 train err에서 각 user_id별로 사용한 fwver횟수\n",
    "fwna_id = train_qua[train_qua['fwver'].isna()].user_id.unique()\n",
    "fw_n = train_err.groupby('user_id')[['fwver']].nunique()"
   ]
  },
  {
   "cell_type": "code",
   "execution_count": 24,
   "metadata": {
    "ExecuteTime": {
     "end_time": "2021-03-14T02:36:54.314900Z",
     "start_time": "2021-03-14T02:36:54.309884Z"
    }
   },
   "outputs": [
    {
     "data": {
      "text/plain": [
       "2"
      ]
     },
     "execution_count": 24,
     "metadata": {},
     "output_type": "execute_result"
    }
   ],
   "source": [
    "#fwna_id중에서 두개 이상의 fwver를 사용하는 user_id의 수 반환\n",
    "#두명빼고는 다 fwver 하나만 가지고 있음\n",
    "result = len(fwna_id)\n",
    "for i in fwna_id:\n",
    "    if fw_n.iloc[i-10000, 0] == 1: result -= 1\n",
    "result"
   ]
  },
  {
   "cell_type": "code",
   "execution_count": 25,
   "metadata": {
    "ExecuteTime": {
     "end_time": "2021-03-14T02:36:54.330738Z",
     "start_time": "2021-03-14T02:36:54.314900Z"
    }
   },
   "outputs": [
    {
     "data": {
      "text/plain": [
       "[15680, 16730]"
      ]
     },
     "execution_count": 25,
     "metadata": {},
     "output_type": "execute_result"
    }
   ],
   "source": [
    "#fwna_id중에서 두개 이상의 fwver를 사용하는 user_id 반환\n",
    "result = []\n",
    "for i in fwna_id:\n",
    "    if fw_n.iloc[i-10000, 0] != 1: result.append(i)\n",
    "result"
   ]
  },
  {
   "cell_type": "code",
   "execution_count": 26,
   "metadata": {
    "ExecuteTime": {
     "end_time": "2021-03-14T02:36:54.336739Z",
     "start_time": "2021-03-14T02:36:54.330738Z"
    }
   },
   "outputs": [],
   "source": [
    "fwna2_id = set(result)\n",
    "fwna1_id = set(fwna_id) - fwna2_id\n",
    "#fwna1_id, fwna2_id"
   ]
  },
  {
   "cell_type": "code",
   "execution_count": 27,
   "metadata": {
    "ExecuteTime": {
     "end_time": "2021-03-14T02:36:55.332161Z",
     "start_time": "2021-03-14T02:36:54.336739Z"
    }
   },
   "outputs": [],
   "source": [
    "#fwver을 하나만 가지는 user에 대한 결측값 대입\n",
    "temp = train_qua\n",
    "for i in fwna1_id:\n",
    "    imputation_value = train_err[train_err['user_id']==i]['fwver'].unique()[0]\n",
    "    temp.loc[temp['user_id']==i, 'fwver'] = imputation_value"
   ]
  },
  {
   "cell_type": "code",
   "execution_count": 28,
   "metadata": {
    "ExecuteTime": {
     "end_time": "2021-03-14T02:36:55.657633Z",
     "start_time": "2021-03-14T02:36:55.332161Z"
    },
    "scrolled": true
   },
   "outputs": [
    {
     "data": {
      "text/plain": [
       "time               0\n",
       "user_id            0\n",
       "fwver              0\n",
       "quality_0     144432\n",
       "quality_1          0\n",
       "quality_2      40113\n",
       "quality_3          0\n",
       "quality_4          0\n",
       "quality_5         20\n",
       "quality_6          0\n",
       "quality_7          0\n",
       "quality_8          0\n",
       "quality_9          0\n",
       "quality_10         0\n",
       "quality_11         0\n",
       "quality_12         0\n",
       "dtype: int64"
      ]
     },
     "execution_count": 28,
     "metadata": {},
     "output_type": "execute_result"
    }
   ],
   "source": [
    "#fwver을 두개 이상 가지는 user에 대한 결측값 대입\n",
    "for i in fwna2_id:\n",
    "    err_time_list = list(train_err[train_err['user_id']==i]['time'].unique())\n",
    "    qua_time_list = list(train_qua[(train_qua['user_id']==i) & (train_qua['fwver'].isna())]['time'].unique())\n",
    "    \n",
    "    for time in qua_time_list:\n",
    "        time_diff = [abs(x-time) for x in err_time_list]\n",
    "        idx = time_diff.index(min(time_diff))\n",
    "        closest_time = err_time_list[idx]\n",
    "        imputation_value = train_err[(train_err['user_id']==i) & (train_err['time']==closest_time)]['fwver'].unique()[0]\n",
    "        temp.loc[(temp['user_id']==i) & (temp['time']==time), 'fwver'] = imputation_value\n",
    "temp.isna().sum()"
   ]
  },
  {
   "cell_type": "markdown",
   "metadata": {},
   "source": [
    "### quality_5"
   ]
  },
  {
   "cell_type": "code",
   "execution_count": 29,
   "metadata": {
    "ExecuteTime": {
     "end_time": "2021-03-14T02:36:55.669641Z",
     "start_time": "2021-03-14T02:36:55.657633Z"
    }
   },
   "outputs": [],
   "source": [
    "# -1패턴이 나타난 경우 -1로 대치\n",
    "temp.loc[(temp['quality_0']==-1) & (temp['quality_1']==-1) & (temp['quality_2']==-1) & \n",
    "         (temp['quality_6']==-1) & (temp['quality_11']==-1) & (temp['quality_5'].isna()), \n",
    "         'quality_5'] = -1"
   ]
  },
  {
   "cell_type": "code",
   "execution_count": 30,
   "metadata": {
    "ExecuteTime": {
     "end_time": "2021-03-14T02:36:55.814674Z",
     "start_time": "2021-03-14T02:36:55.669641Z"
    }
   },
   "outputs": [
    {
     "data": {
      "text/plain": [
       "time               0\n",
       "user_id            0\n",
       "fwver              0\n",
       "quality_0     144432\n",
       "quality_1          0\n",
       "quality_2      40113\n",
       "quality_3          0\n",
       "quality_4          0\n",
       "quality_5          0\n",
       "quality_6          0\n",
       "quality_7          0\n",
       "quality_8          0\n",
       "quality_9          0\n",
       "quality_10         0\n",
       "quality_11         0\n",
       "quality_12         0\n",
       "dtype: int64"
      ]
     },
     "execution_count": 30,
     "metadata": {},
     "output_type": "execute_result"
    }
   ],
   "source": [
    "# -1패턴이 나타나지 않은 경우 같은 quality_10을 가지는 quality_5로 대치\n",
    "temp1 = train_qua.loc[(train_qua['quality_10']>=100000)&(train_qua['quality_5']!=-1), :][['quality_5', 'quality_10']]\n",
    "imputation_list = temp1.groupby('quality_10')[['quality_5']].mean()\n",
    "na_idx = temp[temp['quality_5'].isnull()].index.tolist()\n",
    "\n",
    "for i in na_idx:\n",
    "    imputation_value = imputation_list.loc[temp.loc[i, 'quality_10'], 'quality_5']\n",
    "    temp.loc[i, 'quality_5'] = imputation_value\n",
    "temp.isna().sum()"
   ]
  },
  {
   "cell_type": "markdown",
   "metadata": {},
   "source": [
    "### quality_0, 2"
   ]
  },
  {
   "cell_type": "code",
   "execution_count": 31,
   "metadata": {
    "ExecuteTime": {
     "end_time": "2021-03-14T02:36:55.848681Z",
     "start_time": "2021-03-14T02:36:55.814674Z"
    }
   },
   "outputs": [],
   "source": [
    "# quality_0, 2가 동시에 결측인 경우\n",
    "temp.loc[((temp['quality_2'].isna()) & (temp['quality_0'].isna())) & \n",
    "    ((temp['quality_1']==-1) | (temp['quality_5']==-1) | \n",
    "    (temp['quality_6']==-1) | (temp['quality_11']==-1)), 'quality_0'] = -1\n",
    "temp.loc[((temp['quality_2'].isna()) & (temp['quality_0']==-1)) & \n",
    "    ((temp['quality_1']==-1) | (temp['quality_5']==-1) | \n",
    "    (temp['quality_6']==-1) | (temp['quality_11']==-1)), 'quality_2'] = -1\n",
    "\n",
    "temp.loc[(temp['quality_2'].isna()) & (temp['quality_0'].isna()), 'quality_0'] = 0\n",
    "temp.loc[(temp['quality_2'].isna()), 'quality_2'] = 0"
   ]
  },
  {
   "cell_type": "code",
   "execution_count": 32,
   "metadata": {
    "ExecuteTime": {
     "end_time": "2021-03-14T02:44:03.531308Z",
     "start_time": "2021-03-14T02:36:55.848681Z"
    }
   },
   "outputs": [
    {
     "name": "stderr",
     "output_type": "stream",
     "text": [
      "100%|█████████████████████████████████████████████████████████████████████████| 104352/104352 [07:07<00:00, 244.03it/s]\n",
      "0it [00:00, ?it/s]\n"
     ]
    }
   ],
   "source": [
    "# quality_0, 2 중 하나만 결측인 경우\n",
    "na0_idx = set(temp[temp['quality_0'].isnull()].index.tolist())\n",
    "na2_idx = set(temp[temp['quality_2'].isnull()].index.tolist())\n",
    "na0_idx = na0_idx - na2_idx\n",
    "na2_idx = na2_idx - na0_idx\n",
    "\n",
    "for i in tqdm(na0_idx):\n",
    "    temp.loc[i, 'quality_0'] = temp.loc[i, 'quality_2']\n",
    "    \n",
    "for i in tqdm(na2_idx):\n",
    "    temp.loc[i, 'quality_2'] = temp.loc[i, 'quality_0']"
   ]
  },
  {
   "cell_type": "code",
   "execution_count": 33,
   "metadata": {
    "ExecuteTime": {
     "end_time": "2021-03-14T02:44:03.567319Z",
     "start_time": "2021-03-14T02:44:03.532306Z"
    }
   },
   "outputs": [
    {
     "data": {
      "text/plain": [
       "time          0\n",
       "user_id       0\n",
       "fwver         0\n",
       "quality_0     0\n",
       "quality_1     0\n",
       "quality_2     0\n",
       "quality_3     0\n",
       "quality_4     0\n",
       "quality_5     0\n",
       "quality_6     0\n",
       "quality_7     0\n",
       "quality_8     0\n",
       "quality_9     0\n",
       "quality_10    0\n",
       "quality_11    0\n",
       "quality_12    0\n",
       "dtype: int64"
      ]
     },
     "execution_count": 33,
     "metadata": {},
     "output_type": "execute_result"
    }
   ],
   "source": [
    "temp.isna().sum()"
   ]
  },
  {
   "cell_type": "markdown",
   "metadata": {},
   "source": [
    "### save the processing data"
   ]
  },
  {
   "cell_type": "code",
   "execution_count": 34,
   "metadata": {
    "ExecuteTime": {
     "end_time": "2021-03-14T02:44:06.225277Z",
     "start_time": "2021-03-14T02:44:03.567319Z"
    }
   },
   "outputs": [],
   "source": [
    "temp.to_csv(PATH+\"train_quality_postnull_.csv\", index = False)"
   ]
  },
  {
   "cell_type": "code",
   "execution_count": 35,
   "metadata": {
    "ExecuteTime": {
     "end_time": "2021-03-14T02:44:06.265159Z",
     "start_time": "2021-03-14T02:44:06.225512Z"
    }
   },
   "outputs": [
    {
     "name": "stdout",
     "output_type": "stream",
     "text": [
      "<class 'pandas.core.frame.DataFrame'>\n",
      "RangeIndex: 828624 entries, 0 to 828623\n",
      "Data columns (total 16 columns):\n",
      " #   Column      Non-Null Count   Dtype  \n",
      "---  ------      --------------   -----  \n",
      " 0   time        828624 non-null  int64  \n",
      " 1   user_id     828624 non-null  int64  \n",
      " 2   fwver       828624 non-null  object \n",
      " 3   quality_0   828624 non-null  float64\n",
      " 4   quality_1   828624 non-null  int64  \n",
      " 5   quality_2   828624 non-null  float64\n",
      " 6   quality_3   828624 non-null  int64  \n",
      " 7   quality_4   828624 non-null  int64  \n",
      " 8   quality_5   828624 non-null  float64\n",
      " 9   quality_6   828624 non-null  int64  \n",
      " 10  quality_7   828624 non-null  float64\n",
      " 11  quality_8   828624 non-null  float64\n",
      " 12  quality_9   828624 non-null  float64\n",
      " 13  quality_10  828624 non-null  float64\n",
      " 14  quality_11  828624 non-null  int64  \n",
      " 15  quality_12  828624 non-null  int64  \n",
      "dtypes: float64(7), int64(8), object(1)\n",
      "memory usage: 101.2+ MB\n"
     ]
    }
   ],
   "source": [
    "temp.info()"
   ]
  },
  {
   "cell_type": "markdown",
   "metadata": {},
   "source": [
    "## 3.2. test_quality_data NULL processing"
   ]
  },
  {
   "cell_type": "code",
   "execution_count": 36,
   "metadata": {
    "ExecuteTime": {
     "end_time": "2021-03-14T02:44:06.299086Z",
     "start_time": "2021-03-14T02:44:06.265159Z"
    }
   },
   "outputs": [
    {
     "data": {
      "text/plain": [
       "time               0\n",
       "user_id            0\n",
       "fwver          22764\n",
       "quality_0     106584\n",
       "quality_1         11\n",
       "quality_2      21115\n",
       "quality_3          0\n",
       "quality_4          0\n",
       "quality_5         44\n",
       "quality_6          0\n",
       "quality_7          0\n",
       "quality_8          0\n",
       "quality_9          0\n",
       "quality_10         0\n",
       "quality_11         0\n",
       "quality_12         0\n",
       "dtype: int64"
      ]
     },
     "execution_count": 36,
     "metadata": {},
     "output_type": "execute_result"
    }
   ],
   "source": [
    "test_qua.isna().sum() #fwver, quality_0, 1 2, 5에 결측 존재"
   ]
  },
  {
   "cell_type": "markdown",
   "metadata": {},
   "source": [
    "### fwver"
   ]
  },
  {
   "cell_type": "code",
   "execution_count": 37,
   "metadata": {
    "ExecuteTime": {
     "end_time": "2021-03-14T02:44:08.122674Z",
     "start_time": "2021-03-14T02:44:06.299086Z"
    }
   },
   "outputs": [],
   "source": [
    "#fwna_id는 test_quality에서 fwver에 결측을 가진 user_id 모음\n",
    "#fw_n은 test err에서 각 user_id별로 사용한 fwver횟수\n",
    "fwna_id = test_qua[test_qua['fwver'].isna()].user_id.unique()\n",
    "fw_n = test_err.groupby('user_id')[['fwver']].nunique()"
   ]
  },
  {
   "cell_type": "code",
   "execution_count": 38,
   "metadata": {
    "ExecuteTime": {
     "end_time": "2021-03-14T02:44:08.126673Z",
     "start_time": "2021-03-14T02:44:08.123673Z"
    }
   },
   "outputs": [
    {
     "data": {
      "text/plain": [
       "5"
      ]
     },
     "execution_count": 38,
     "metadata": {},
     "output_type": "execute_result"
    }
   ],
   "source": [
    "#fwna_id중에서 두개 이상의 fwver를 사용하는 user_id의 수 반환\n",
    "#다섯명빼고는 다 fwver 하나만 가지고 있음\n",
    "result = len(fwna_id)\n",
    "for i in fwna_id:\n",
    "    if fw_n.iloc[i-30000, 0] == 1: result -= 1\n",
    "result"
   ]
  },
  {
   "cell_type": "code",
   "execution_count": 39,
   "metadata": {
    "ExecuteTime": {
     "end_time": "2021-03-14T02:44:08.143684Z",
     "start_time": "2021-03-14T02:44:08.126952Z"
    }
   },
   "outputs": [
    {
     "data": {
      "text/plain": [
       "[36160, 39078, 44056, 44817, 44903]"
      ]
     },
     "execution_count": 39,
     "metadata": {},
     "output_type": "execute_result"
    }
   ],
   "source": [
    "#fwna_id중에서 두개 이상의 fwver를 사용하는 user_id 반환\n",
    "result = []\n",
    "for i in fwna_id:\n",
    "    if fw_n.iloc[i-30000, 0] != 1: result.append(i)\n",
    "result"
   ]
  },
  {
   "cell_type": "code",
   "execution_count": 40,
   "metadata": {
    "ExecuteTime": {
     "end_time": "2021-03-14T02:44:09.057920Z",
     "start_time": "2021-03-14T02:44:08.143684Z"
    }
   },
   "outputs": [
    {
     "data": {
      "text/plain": [
       "{43262}"
      ]
     },
     "execution_count": 40,
     "metadata": {},
     "output_type": "execute_result"
    }
   ],
   "source": [
    "#test_err데이터에서 43262만 데이터가 없음 -> fwver을 43261걸로 대치함\n",
    "set(range(30000, 44999))-set(test_err['user_id'])"
   ]
  },
  {
   "cell_type": "code",
   "execution_count": 41,
   "metadata": {
    "ExecuteTime": {
     "end_time": "2021-03-14T02:44:09.115588Z",
     "start_time": "2021-03-14T02:44:09.057920Z"
    }
   },
   "outputs": [],
   "source": [
    "imputation_value = test_err[test_err['user_id']==43261]['fwver'].unique()[0]\n",
    "test_qua.loc[test_qua['user_id']==43262, 'fwver'] = imputation_value"
   ]
  },
  {
   "cell_type": "code",
   "execution_count": 42,
   "metadata": {
    "ExecuteTime": {
     "end_time": "2021-03-14T02:44:09.117589Z",
     "start_time": "2021-03-14T02:44:09.115588Z"
    }
   },
   "outputs": [],
   "source": [
    "fwna2_id = set(result)\n",
    "fwna1_id = set(fwna_id) - fwna2_id - {43262}\n",
    "#fwna1_id, fwna2_id"
   ]
  },
  {
   "cell_type": "code",
   "execution_count": 43,
   "metadata": {
    "ExecuteTime": {
     "end_time": "2021-03-14T02:44:09.849601Z",
     "start_time": "2021-03-14T02:44:09.117589Z"
    }
   },
   "outputs": [],
   "source": [
    "#fwver을 하나만 가지는 user에 대한 결측값 대입\n",
    "temp = test_qua\n",
    "for i in fwna1_id:\n",
    "    imputation_value = test_err[test_err['user_id']==i]['fwver'].unique()[0]\n",
    "    temp.loc[temp['user_id']==i, 'fwver'] = imputation_value"
   ]
  },
  {
   "cell_type": "code",
   "execution_count": 44,
   "metadata": {
    "ExecuteTime": {
     "end_time": "2021-03-14T02:44:16.684492Z",
     "start_time": "2021-03-14T02:44:09.849601Z"
    },
    "scrolled": true
   },
   "outputs": [
    {
     "data": {
      "text/plain": [
       "time               0\n",
       "user_id            0\n",
       "fwver              0\n",
       "quality_0     106584\n",
       "quality_1         11\n",
       "quality_2      21115\n",
       "quality_3          0\n",
       "quality_4          0\n",
       "quality_5         44\n",
       "quality_6          0\n",
       "quality_7          0\n",
       "quality_8          0\n",
       "quality_9          0\n",
       "quality_10         0\n",
       "quality_11         0\n",
       "quality_12         0\n",
       "dtype: int64"
      ]
     },
     "execution_count": 44,
     "metadata": {},
     "output_type": "execute_result"
    }
   ],
   "source": [
    "#fwver을 두개 이상 가지는 user에 대한 결측값 대입\n",
    "for i in fwna2_id:\n",
    "    err_time_list = list(test_err[test_err['user_id']==i]['time'].unique())\n",
    "    qua_time_list = list(test_qua[(test_qua['user_id']==i) & (test_qua['fwver'].isna())]['time'].unique())\n",
    "    \n",
    "    for time in qua_time_list:\n",
    "        time_diff = [abs(x-time) for x in err_time_list]\n",
    "        idx = time_diff.index(min(time_diff))\n",
    "        closest_time = err_time_list[idx]\n",
    "        imputation_value = test_err[(test_err['user_id']==i) & (test_err['time']==closest_time)]['fwver'].unique()[0]\n",
    "        temp.loc[(temp['user_id']==i) & (temp['time']==time), 'fwver'] = imputation_value\n",
    "temp.isna().sum()"
   ]
  },
  {
   "cell_type": "markdown",
   "metadata": {},
   "source": [
    "### quality_5"
   ]
  },
  {
   "cell_type": "code",
   "execution_count": 45,
   "metadata": {
    "ExecuteTime": {
     "end_time": "2021-03-14T02:44:16.887542Z",
     "start_time": "2021-03-14T02:44:16.684492Z"
    }
   },
   "outputs": [
    {
     "data": {
      "text/plain": [
       "time               0\n",
       "user_id            0\n",
       "fwver              0\n",
       "quality_0     106584\n",
       "quality_1         11\n",
       "quality_2      21115\n",
       "quality_3          0\n",
       "quality_4          0\n",
       "quality_5          0\n",
       "quality_6          0\n",
       "quality_7          0\n",
       "quality_8          0\n",
       "quality_9          0\n",
       "quality_10         0\n",
       "quality_11         0\n",
       "quality_12         0\n",
       "dtype: int64"
      ]
     },
     "execution_count": 45,
     "metadata": {},
     "output_type": "execute_result"
    }
   ],
   "source": [
    "# test데이터에서 quality_5가 NULL인 경우에 주변 변수에서 -1패턴을 가지는 경우가 없다.\n",
    "# -1패턴이 나타나지 않은 경우 같은 quality_10을 가지는 quality_5로 대치\n",
    "temp1 = test_qua.loc[(test_qua['quality_10']>=100000)&(test_qua['quality_5']!=-1), :][['quality_5', 'quality_10']]\n",
    "imputation_list = temp1.groupby('quality_10')[['quality_5']].mean()\n",
    "na_idx = temp[temp['quality_5'].isnull()].index.tolist()\n",
    "\n",
    "for i in na_idx:\n",
    "    imputation_value = imputation_list.loc[temp.loc[i, 'quality_10'], 'quality_5']\n",
    "    temp.loc[i, 'quality_5'] = imputation_value\n",
    "temp.isna().sum()"
   ]
  },
  {
   "cell_type": "markdown",
   "metadata": {},
   "source": [
    "### quality_0, 2"
   ]
  },
  {
   "cell_type": "code",
   "execution_count": 46,
   "metadata": {
    "ExecuteTime": {
     "end_time": "2021-03-14T02:50:48.350529Z",
     "start_time": "2021-03-14T02:44:16.887542Z"
    }
   },
   "outputs": [
    {
     "name": "stderr",
     "output_type": "stream",
     "text": [
      "100%|███████████████████████████████████████████████████████████████████████████| 85500/85500 [05:14<00:00, 271.53it/s]\n",
      "100%|███████████████████████████████████████████████████████████████████████████| 21115/21115 [01:16<00:00, 275.84it/s]\n"
     ]
    }
   ],
   "source": [
    "# quality_0, 2 중 하나만 결측인 경우\n",
    "na0_idx = set(temp[temp['quality_0'].isnull()].index.tolist())\n",
    "na2_idx = set(temp[temp['quality_2'].isnull()].index.tolist())\n",
    "na0_idx = na0_idx - na2_idx\n",
    "na2_idx = na2_idx - na0_idx\n",
    "\n",
    "for i in tqdm(na0_idx):\n",
    "    temp.loc[i, 'quality_0'] = temp.loc[i, 'quality_2']\n",
    "    \n",
    "for i in tqdm(na2_idx):\n",
    "    temp.loc[i, 'quality_2'] = temp.loc[i, 'quality_0']"
   ]
  },
  {
   "cell_type": "code",
   "execution_count": 47,
   "metadata": {
    "ExecuteTime": {
     "end_time": "2021-03-14T02:50:48.353528Z",
     "start_time": "2021-03-14T02:50:48.350529Z"
    }
   },
   "outputs": [
    {
     "data": {
      "text/plain": [
       "(85500, 21115)"
      ]
     },
     "execution_count": 47,
     "metadata": {},
     "output_type": "execute_result"
    }
   ],
   "source": [
    "len(na0_idx), len(na2_idx)"
   ]
  },
  {
   "cell_type": "code",
   "execution_count": 48,
   "metadata": {
    "ExecuteTime": {
     "end_time": "2021-03-14T02:50:48.427550Z",
     "start_time": "2021-03-14T02:50:48.353528Z"
    }
   },
   "outputs": [
    {
     "data": {
      "text/plain": [
       "time           0\n",
       "user_id        0\n",
       "fwver          0\n",
       "quality_0      0\n",
       "quality_1     11\n",
       "quality_2      0\n",
       "quality_3      0\n",
       "quality_4      0\n",
       "quality_5      0\n",
       "quality_6      0\n",
       "quality_7      0\n",
       "quality_8      0\n",
       "quality_9      0\n",
       "quality_10     0\n",
       "quality_11     0\n",
       "quality_12     0\n",
       "dtype: int64"
      ]
     },
     "execution_count": 48,
     "metadata": {},
     "output_type": "execute_result"
    }
   ],
   "source": [
    "# quality_0, 2가 동시에 결측인 경우\n",
    "temp.loc[((temp['quality_2'].isna()) & (temp['quality_0'].isna())) & \n",
    "    ((temp['quality_1']==-1) | (temp['quality_5']==-1) | \n",
    "    (temp['quality_6']==-1) | (temp['quality_11']==-1)), 'quality_0'] = -1\n",
    "temp.loc[((temp['quality_2'].isna()) & (temp['quality_0']==-1)) & \n",
    "    ((temp['quality_1']==-1) | (temp['quality_5']==-1) | \n",
    "    (temp['quality_6']==-1) | (temp['quality_11']==-1)), 'quality_2'] = -1\n",
    "\n",
    "temp.loc[(temp['quality_2'].isna()) & (temp['quality_0'].isna()), 'quality_0'] = 0\n",
    "temp.loc[(temp['quality_2'].isna()), 'quality_2'] = 0\n",
    "\n",
    "temp.isna().sum()"
   ]
  },
  {
   "cell_type": "markdown",
   "metadata": {},
   "source": [
    "### quality_1"
   ]
  },
  {
   "cell_type": "code",
   "execution_count": 49,
   "metadata": {
    "ExecuteTime": {
     "end_time": "2021-03-14T02:50:48.473561Z",
     "start_time": "2021-03-14T02:50:48.427550Z"
    }
   },
   "outputs": [
    {
     "name": "stderr",
     "output_type": "stream",
     "text": [
      "100%|█████████████████████████████████████████████████████████████████████████████████| 11/11 [00:00<00:00, 261.84it/s]\n"
     ]
    }
   ],
   "source": [
    "# quality_8과의 상관관계가 0.99이며, quality_1이 NULL일 때 주변 변수에서 -1패턴을 보이지 않는다.\n",
    "# quality_8을 이용해 NULL 대치\n",
    "na1_idx = set(temp[temp['quality_1'].isnull()].index.tolist())\n",
    "\n",
    "for i in tqdm(na1_idx):\n",
    "    temp.loc[i, 'quality_1'] = temp.loc[i, 'quality_8']"
   ]
  },
  {
   "cell_type": "markdown",
   "metadata": {},
   "source": [
    "### save the processing data"
   ]
  },
  {
   "cell_type": "code",
   "execution_count": 50,
   "metadata": {
    "ExecuteTime": {
     "end_time": "2021-03-14T02:50:50.965144Z",
     "start_time": "2021-03-14T02:50:48.473561Z"
    }
   },
   "outputs": [],
   "source": [
    "temp.to_csv(PATH+\"test_quality_postnull_.csv\", index = False)"
   ]
  },
  {
   "cell_type": "code",
   "execution_count": 51,
   "metadata": {
    "ExecuteTime": {
     "end_time": "2021-03-14T02:50:51.004146Z",
     "start_time": "2021-03-14T02:50:50.965144Z"
    }
   },
   "outputs": [
    {
     "name": "stdout",
     "output_type": "stream",
     "text": [
      "<class 'pandas.core.frame.DataFrame'>\n",
      "RangeIndex: 747972 entries, 0 to 747971\n",
      "Data columns (total 16 columns):\n",
      " #   Column      Non-Null Count   Dtype  \n",
      "---  ------      --------------   -----  \n",
      " 0   time        747972 non-null  int64  \n",
      " 1   user_id     747972 non-null  int64  \n",
      " 2   fwver       747972 non-null  object \n",
      " 3   quality_0   747972 non-null  float64\n",
      " 4   quality_1   747972 non-null  float64\n",
      " 5   quality_2   747972 non-null  float64\n",
      " 6   quality_3   747972 non-null  int64  \n",
      " 7   quality_4   747972 non-null  int64  \n",
      " 8   quality_5   747972 non-null  float64\n",
      " 9   quality_6   747972 non-null  int64  \n",
      " 10  quality_7   747972 non-null  float64\n",
      " 11  quality_8   747972 non-null  float64\n",
      " 12  quality_9   747972 non-null  float64\n",
      " 13  quality_10  747972 non-null  float64\n",
      " 14  quality_11  747972 non-null  int64  \n",
      " 15  quality_12  747972 non-null  int64  \n",
      "dtypes: float64(8), int64(7), object(1)\n",
      "memory usage: 91.3+ MB\n"
     ]
    }
   ],
   "source": [
    "temp.info()"
   ]
  }
 ],
 "metadata": {
  "kernelspec": {
   "display_name": "Python 3",
   "language": "python",
   "name": "python3"
  },
  "language_info": {
   "codemirror_mode": {
    "name": "ipython",
    "version": 3
   },
   "file_extension": ".py",
   "mimetype": "text/x-python",
   "name": "python",
   "nbconvert_exporter": "python",
   "pygments_lexer": "ipython3",
   "version": "3.8.8"
  },
  "toc": {
   "base_numbering": 1,
   "nav_menu": {},
   "number_sections": false,
   "sideBar": true,
   "skip_h1_title": false,
   "title_cell": "Table of Contents",
   "title_sidebar": "Contents",
   "toc_cell": false,
   "toc_position": {
    "height": "calc(100% - 180px)",
    "left": "10px",
    "top": "150px",
    "width": "165px"
   },
   "toc_section_display": true,
   "toc_window_display": false
  },
  "varInspector": {
   "cols": {
    "lenName": 16,
    "lenType": 16,
    "lenVar": 40
   },
   "kernels_config": {
    "python": {
     "delete_cmd_postfix": "",
     "delete_cmd_prefix": "del ",
     "library": "var_list.py",
     "varRefreshCmd": "print(var_dic_list())"
    },
    "r": {
     "delete_cmd_postfix": ") ",
     "delete_cmd_prefix": "rm(",
     "library": "var_list.r",
     "varRefreshCmd": "cat(var_dic_list()) "
    }
   },
   "oldHeight": 295.98978,
   "position": {
    "height": "40px",
    "left": "1780.77px",
    "right": "20px",
    "top": "117px",
    "width": "326.771px"
   },
   "types_to_exclude": [
    "module",
    "function",
    "builtin_function_or_method",
    "instance",
    "_Feature"
   ],
   "varInspector_section_display": "none",
   "window_display": false
  }
 },
 "nbformat": 4,
 "nbformat_minor": 4
}
